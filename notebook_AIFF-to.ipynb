{
 "cells": [
  {
   "cell_type": "code",
   "execution_count": 2,
   "metadata": {},
   "outputs": [],
   "source": [
    "import glob\n",
    "import io\n",
    "import librosa\n",
    "from pathlib import Path\n",
    "import matplotlib.pyplot as plt\n",
    "import numpy as np \n",
    "import os\n",
    "import pandas as pd\n",
    "import IPython.display as ipd\n",
    "import seaborn as sns \n",
    "import soundfile as sf\n",
    "import zipfile\n",
    "import tensorflow as tf\n",
    "import tensorflow.keras.backend as K\n",
    "from tensorflow.keras.callbacks import EarlyStopping\n",
    "import efficientnet.tfkeras as efn\n",
    "from tqdm import tqdm"
   ]
  },
  {
   "cell_type": "code",
   "execution_count": 3,
   "metadata": {},
   "outputs": [
    {
     "data": {
      "text/markdown": [
       "### There are **_23168_** audio files in the dataset."
      ],
      "text/plain": [
       "<IPython.core.display.Markdown object>"
      ]
     },
     "metadata": {},
     "output_type": "display_data"
    },
    {
     "data": {
      "text/markdown": [
       "\n",
       "Here is the split into good and bad signals:\n",
       "| Label   | Count   |\n",
       "|:-------:|:-------:|\n",
       "| 0       | 13718 |\n",
       "| 1       | 9450 |"
      ],
      "text/plain": [
       "<IPython.core.display.Markdown object>"
      ]
     },
     "metadata": {},
     "output_type": "display_data"
    },
    {
     "data": {
      "text/html": [
       "<div>\n",
       "<style scoped>\n",
       "    .dataframe tbody tr th:only-of-type {\n",
       "        vertical-align: middle;\n",
       "    }\n",
       "\n",
       "    .dataframe tbody tr th {\n",
       "        vertical-align: top;\n",
       "    }\n",
       "\n",
       "    .dataframe thead th {\n",
       "        text-align: right;\n",
       "    }\n",
       "</style>\n",
       "<table border=\"1\" class=\"dataframe\">\n",
       "  <thead>\n",
       "    <tr style=\"text-align: right;\">\n",
       "      <th></th>\n",
       "      <th>relative_path</th>\n",
       "      <th>label</th>\n",
       "    </tr>\n",
       "  </thead>\n",
       "  <tbody>\n",
       "    <tr>\n",
       "      <th>0</th>\n",
       "      <td>/Users/tristangclvs/Documents/ENSC/3A/S9/Spé ...</td>\n",
       "      <td>0.0</td>\n",
       "    </tr>\n",
       "    <tr>\n",
       "      <th>1</th>\n",
       "      <td>/Users/tristangclvs/Documents/ENSC/3A/S9/Spé ...</td>\n",
       "      <td>1.0</td>\n",
       "    </tr>\n",
       "    <tr>\n",
       "      <th>2</th>\n",
       "      <td>/Users/tristangclvs/Documents/ENSC/3A/S9/Spé ...</td>\n",
       "      <td>1.0</td>\n",
       "    </tr>\n",
       "    <tr>\n",
       "      <th>3</th>\n",
       "      <td>/Users/tristangclvs/Documents/ENSC/3A/S9/Spé ...</td>\n",
       "      <td>1.0</td>\n",
       "    </tr>\n",
       "    <tr>\n",
       "      <th>4</th>\n",
       "      <td>/Users/tristangclvs/Documents/ENSC/3A/S9/Spé ...</td>\n",
       "      <td>1.0</td>\n",
       "    </tr>\n",
       "  </tbody>\n",
       "</table>\n",
       "</div>"
      ],
      "text/plain": [
       "                                       relative_path  label\n",
       "0  /Users/tristangclvs/Documents/ENSC/3A/S9/Spé ...    0.0\n",
       "1  /Users/tristangclvs/Documents/ENSC/3A/S9/Spé ...    1.0\n",
       "2  /Users/tristangclvs/Documents/ENSC/3A/S9/Spé ...    1.0\n",
       "3  /Users/tristangclvs/Documents/ENSC/3A/S9/Spé ...    1.0\n",
       "4  /Users/tristangclvs/Documents/ENSC/3A/S9/Spé ...    1.0"
      ]
     },
     "execution_count": 3,
     "metadata": {},
     "output_type": "execute_result"
    }
   ],
   "source": [
    "output_path = download_path = Path.cwd() / \".result\"\n",
    "\n",
    "if not os.path.exists(output_path):\n",
    "    os.makedirs(output_path)\n",
    "    \n",
    "# Set the path to the downloaded data\n",
    "download_path = Path.cwd() / \".dataset\"\n",
    "\n",
    "# Read labels file\n",
    "labels_file = download_path / \"Y_train_ofTdMHi.csv\"\n",
    "df = pd.read_csv(labels_file)\n",
    "\n",
    "# Construct file path by concatenating folder and file name\n",
    "df[\"relative_path\"] = str(download_path) + \"/X_train/\" + df[\"id\"]\n",
    "\n",
    "# Drop id column (replaced it with relative_path)\n",
    "df.drop(columns=[\"id\"], inplace=True)\n",
    "\n",
    "df.rename(columns={\"pos_label\": \"label\"}, inplace=True)\n",
    "\n",
    "# invert relative_path and label columns positions\n",
    "df = df[[\"relative_path\", \"label\"]]\n",
    "display(ipd.Markdown(f\"### There are **_{len(df)}_** audio files in the dataset.\"))\n",
    "\n",
    "table = f\"\"\"\n",
    "Here is the split into good and bad signals:\n",
    "| Label   | Count   |\n",
    "|:-------:|:-------:|\n",
    "| 0       | {df['label'].value_counts()[0]} |\n",
    "| 1       | {df['label'].value_counts()[1]} |\"\"\"\n",
    "display(ipd.Markdown(table))\n",
    "df.head()"
   ]
  },
  {
   "cell_type": "markdown",
   "metadata": {},
   "source": [
    "### Creating spectrogram images from .wav audio files"
   ]
  },
  {
   "cell_type": "code",
   "execution_count": 4,
   "metadata": {},
   "outputs": [],
   "source": [
    "def get_images(samples, sr, output_path):\n",
    "    n_fft = 2048\n",
    "    hop_length = 512\n",
    "    n_mels=90\n",
    "    S = librosa.feature.melspectrogram(y=samples,\n",
    "                                       sr=sr,\n",
    "                                       n_fft=n_fft,\n",
    "                                       hop_length=hop_length,\n",
    "                                       n_mels=n_mels,\n",
    "                                       fmax=100000)\n",
    "    S_db = librosa.power_to_db(S, ref=np.max)\n",
    "    fig, ax = plt.subplots(figsize=(2,2))\n",
    "    librosa.display.specshow(S_db,\n",
    "                             x_axis='time',\n",
    "                             y_axis='linear',\n",
    "                             sr=sr,\n",
    "                             hop_length=hop_length, \n",
    "                             )\n",
    "    plt.axis('off')\n",
    "    plt.tight_layout()\n",
    "    plt.savefig(output_path, dpi=150, format='png' , bbox_inches='tight', pad_inches=0)\n",
    "    plt.close()"
   ]
  },
  {
   "cell_type": "code",
   "execution_count": 4,
   "metadata": {},
   "outputs": [],
   "source": [
    "input_directory = Path.cwd() / \".dataset/X_train\"\n",
    "output_directory = \"./spectogram_images\"\n",
    "\n",
    "if not os.path.exists(output_directory):\n",
    "    os.makedirs(output_directory)\n",
    "\n",
    "\n",
    "for filename in tqdm(os.listdir(input_directory)):\n",
    "    if filename.endswith(\".wav\"):  # Check the file extension\n",
    "        file_path = os.path.join(input_directory, filename)\n",
    "        output_path = os.path.join(output_directory, f\"{os.path.splitext(filename)[0]}.png\")\n",
    "        \n",
    "        audio_data, sr = librosa.load(file_path, sr=None)\n",
    "        get_images(audio_data, sr, output_path)"
   ]
  },
  {
   "cell_type": "code",
   "execution_count": 5,
   "metadata": {},
   "outputs": [
    {
     "name": "stdout",
     "output_type": "stream",
     "text": [
      "Done!\n"
     ]
    }
   ],
   "source": [
    "print(\"Done!\")"
   ]
  },
  {
   "cell_type": "markdown",
   "metadata": {},
   "source": [
    "### Check data distribution"
   ]
  },
  {
   "cell_type": "code",
   "execution_count": 5,
   "metadata": {},
   "outputs": [
    {
     "data": {
      "image/png": "[encoded data removed]",
      "text/plain": [
       "<Figure size 640x480 with 1 Axes>"
      ]
     },
     "metadata": {},
     "output_type": "display_data"
    }
   ],
   "source": [
    "class_counts = df['label'].value_counts()\n",
    "\n",
    "# Assuming there are only two classes\n",
    "class_names = ['0', '1']\n",
    "\n",
    "plt.bar(class_names, [class_counts[0], class_counts[1]])\n",
    "plt.xlabel('Labels')\n",
    "plt.ylabel('Nombres')\n",
    "plt.title('Distribution dataset')\n",
    "plt.show()"
   ]
  },
  {
   "cell_type": "markdown",
   "metadata": {},
   "source": [
    "##### mouais ça peut aller ==> pas d'image augmentation pour le moment"
   ]
  },
  {
   "cell_type": "code",
   "execution_count": 6,
   "metadata": {},
   "outputs": [
    {
     "name": "stdout",
     "output_type": "stream",
     "text": [
      "Dataset: 23168 total images\n"
     ]
    }
   ],
   "source": [
    "NUM_IMAGES = len(os.listdir(Path.cwd() / 'spectogram_images'))\n",
    "print('Dataset: {} total images'.format(NUM_IMAGES))"
   ]
  },
  {
   "cell_type": "code",
   "execution_count": 7,
   "metadata": {},
   "outputs": [],
   "source": [
    "train_size = int(0.8 * NUM_IMAGES)\n",
    "val_size = int(0.2 * NUM_IMAGES)"
   ]
  },
  {
   "cell_type": "code",
   "execution_count": 8,
   "metadata": {},
   "outputs": [
    {
     "name": "stdout",
     "output_type": "stream",
     "text": [
      "18534\n"
     ]
    }
   ],
   "source": [
    "print(train_size)"
   ]
  },
  {
   "cell_type": "code",
   "execution_count": 9,
   "metadata": {},
   "outputs": [],
   "source": [
    "# Defining binary focal loss function\n",
    "def binary_focal_loss(gamma = 2., alpha = .25):\n",
    "    def tf_binary_focal_loss_fixed(y_true, y_pred):\n",
    "         pt_1 = tf.where(tf.equal(y_true, 1), y_pred, tf.ones_like(y_pred))\n",
    "         pt_0 = tf.where(tf.equal(y_true, 0), y_pred, tf.zeros_like(y_pred))\n",
    "         epsilon = K.epsilon()\n",
    "         pt_1 = K.clip(pt_1, epsilon, 1. - epsilon)\n",
    "         pt_0 = K.clip(pt_0, epsilon, 1. - epsilon)\n",
    "         return -K.sum(alpha * K.pow(1. - pt_1, gamma) * K.log(pt_1)) -K.sum((1 - alpha) * K.pow(pt_0, gamma) * K.log(1. - pt_0))\n",
    "    return tf_binary_focal_loss_fixed"
   ]
  },
  {
   "cell_type": "code",
   "execution_count": 10,
   "metadata": {},
   "outputs": [],
   "source": [
    "# Learning Rate Schedule for Fine Tuning \n",
    "def exponential_lr(epoch,\n",
    "                   start_lr = 0.00001, min_lr = 0.00001, max_lr = 0.00005,\n",
    "                   rampup_epochs = 5, sustain_epochs = 0,\n",
    "                   exp_decay = 0.85):\n",
    "\n",
    "    def lr(epoch, start_lr, min_lr, max_lr, rampup_epochs, sustain_epochs, exp_decay):\n",
    "        # linear increase from start to rampup_epochs\n",
    "        if epoch < rampup_epochs:\n",
    "            lr = ((max_lr - start_lr) /\n",
    "                  rampup_epochs * epoch + start_lr)\n",
    "        # constant max_lr during sustain_epochs\n",
    "        elif epoch < rampup_epochs + sustain_epochs:\n",
    "            lr = max_lr\n",
    "        # exponential decay towards min_lr\n",
    "        else:\n",
    "            lr = ((max_lr - min_lr) *\n",
    "                  exp_decay**(epoch - rampup_epochs - sustain_epochs) +\n",
    "                  min_lr)\n",
    "        return lr\n",
    "    return lr(epoch,\n",
    "              start_lr,\n",
    "              min_lr,\n",
    "              max_lr,\n",
    "              rampup_epochs,\n",
    "              sustain_epochs,\n",
    "              exp_decay)\n",
    "\n",
    "lr_callback = tf.keras.callbacks.LearningRateScheduler(exponential_lr, verbose=True)"
   ]
  },
  {
   "cell_type": "code",
   "execution_count": 11,
   "metadata": {},
   "outputs": [],
   "source": [
    "# Define early stopping criteria\n",
    "early_stopping = EarlyStopping(monitor='val_loss', min_delta=0.001, patience=2, restore_best_weights=True)"
   ]
  },
  {
   "cell_type": "code",
   "execution_count": 12,
   "metadata": {},
   "outputs": [],
   "source": [
    "pretrained_model = efn.EfficientNetB2(\n",
    "    weights='imagenet',\n",
    "    include_top=False ,\n",
    "    input_shape=[*[255,255], 3]\n",
    ")\n",
    "\n",
    "pretrained_model.trainable = False\n",
    "\n",
    "model = tf.keras.Sequential([\n",
    "    pretrained_model,\n",
    "    tf.keras.layers.GlobalAveragePooling2D(),\n",
    "    tf.keras.layers.Dense(40, activation='relu'),\n",
    "    tf.keras.layers.Dense(1, activation='sigmoid')\n",
    "])"
   ]
  },
  {
   "cell_type": "code",
   "execution_count": 13,
   "metadata": {},
   "outputs": [
    {
     "name": "stdout",
     "output_type": "stream",
     "text": [
      "Model: \"sequential\"\n",
      "_________________________________________________________________\n",
      " Layer (type)                Output Shape              Param #   \n",
      "=================================================================\n",
      " efficientnet-b2 (Functiona  (None, 8, 8, 1408)        7768562   \n",
      " l)                                                              \n",
      "                                                                 \n",
      " global_average_pooling2d (  (None, 1408)              0         \n",
      " GlobalAveragePooling2D)                                         \n",
      "                                                                 \n",
      " dense (Dense)               (None, 40)                56360     \n",
      "                                                                 \n",
      " dense_1 (Dense)             (None, 1)                 41        \n",
      "                                                                 \n",
      "=================================================================\n",
      "Total params: 7824963 (29.85 MB)\n",
      "Trainable params: 56401 (220.32 KB)\n",
      "Non-trainable params: 7768562 (29.63 MB)\n",
      "_________________________________________________________________\n"
     ]
    }
   ],
   "source": [
    "model.compile(\n",
    "    optimizer=\"adam\",\n",
    "    loss=binary_focal_loss(), \n",
    "    metrics=['binary_accuracy'],\n",
    ")\n",
    "model.summary()"
   ]
  },
  {
   "cell_type": "code",
   "execution_count": 17,
   "metadata": {},
   "outputs": [
    {
     "name": "stderr",
     "output_type": "stream",
     "text": [
      "100%|██████████| 23168/23168 [01:06<00:00, 345.83it/s]\n"
     ]
    }
   ],
   "source": [
    "from tensorflow.keras.preprocessing import image\n",
    "from tensorflow.keras.applications.efficientnet import preprocess_input\n",
    "\n",
    "images_folder = Path.cwd() / 'spectogram_images'\n",
    "\n",
    "images_preprocessed = []\n",
    "for i in tqdm(os.listdir(images_folder)):\n",
    "    img = image.load_img(os.path.join(images_folder,i), target_size=(255, 255))\n",
    "    img_array = image.img_to_array(img)\n",
    "    \n",
    "    img_array = preprocess_input(img_array)\n",
    "\n",
    "    images_preprocessed.append(img_array)\n"
   ]
  },
  {
   "cell_type": "code",
   "execution_count": 18,
   "metadata": {},
   "outputs": [
    {
     "name": "stdout",
     "output_type": "stream",
     "text": [
      "Shape of training dataset:  18534\n",
      "Shape of validation dataset:  4634\n"
     ]
    }
   ],
   "source": [
    "from sklearn.model_selection import train_test_split\n",
    "\n",
    "X_train, X_val, y_train, y_val = train_test_split(images_preprocessed, df['label'], test_size=0.2, random_state=42)\n",
    "\n",
    "print(\"Shape of training dataset: \", len(X_train))\n",
    "print(\"Shape of validation dataset: \", len(X_val))"
   ]
  },
  {
   "cell_type": "code",
   "execution_count": 19,
   "metadata": {},
   "outputs": [
    {
     "ename": "",
     "evalue": "",
     "output_type": "error",
     "traceback": [
      "\u001b[1;31mThe Kernel crashed while executing code in the the current cell or a previous cell. Please review the code in the cell(s) to identify a possible cause of the failure. Click <a href='https://aka.ms/vscodeJupyterKernelCrash'>here</a> for more info. View Jupyter <a href='command:jupyter.viewOutput'>log</a> for further details."
     ]
    }
   ],
   "source": [
    "BATCH_SIZE = 32\n",
    "# Training epochs definition \n",
    "steps_per_epoch = train_size // BATCH_SIZE\n",
    "\n",
    "# Fitting the model \n",
    "history = model.fit(\n",
    "    X_train,\n",
    "    y_train,\n",
    "    validation_data=(X_val, y_val),\n",
    "    epochs=5,\n",
    "    verbose=2,\n",
    "    # steps_per_epoch=steps_per_epoch,\n",
    "    callbacks=[early_stopping]\n",
    "    )"
   ]
  }
 ],
 "metadata": {
  "kernelspec": {
   "display_name": "Python 3.11.1 64-bit",
   "language": "python",
   "name": "python3"
  },
  "language_info": {
   "codemirror_mode": {
    "name": "ipython",
    "version": 3
   },
   "file_extension": ".py",
   "mimetype": "text/x-python",
   "name": "python",
   "nbconvert_exporter": "python",
   "pygments_lexer": "ipython3",
   "version": "3.11.5"
  },
  "orig_nbformat": 4,
  "vscode": {
   "interpreter": {
    "hash": "20e40d8fc09a6690434ad602c7eb2d8de15d36ec466bfbfb0de97c7c540d7363"
   }
  }
 },
 "nbformat": 4,
 "nbformat_minor": 2
}
