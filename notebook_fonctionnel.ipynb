{
 "cells": [
  {
   "cell_type": "code",
   "execution_count": 1,
   "metadata": {},
   "outputs": [],
   "source": [
    "import pandas as pd\n",
    "from pathlib import Path\n",
    "import os\n",
    "import librosa\n",
    "import librosa.display\n",
    "import matplotlib.pyplot as plt\n",
    "import numpy as np\n",
    "import os\n",
    "from pathlib import Path\n",
    "import pandas as pd\n",
    "from tqdm import tqdm\n",
    "\n",
    "%matplotlib inline\n",
    "import numpy as np\n",
    "import IPython.display as ipd\n",
    "import matplotlib.pyplot as plt\n",
    "from tqdm import tqdm\n",
    "%matplotlib inline"
   ]
  },
  {
   "cell_type": "code",
   "execution_count": 2,
   "metadata": {},
   "outputs": [
    {
     "name": "stdout",
     "output_type": "stream",
     "text": [
      "There are ** 23168 ** audio files in the dataset.\n",
      "\n",
      "label\n",
      "0.0    13718\n",
      "1.0     9450\n",
      "Name: count, dtype: int64\n"
     ]
    },
    {
     "data": {
      "text/html": [
       "<div>\n",
       "<style scoped>\n",
       "    .dataframe tbody tr th:only-of-type {\n",
       "        vertical-align: middle;\n",
       "    }\n",
       "\n",
       "    .dataframe tbody tr th {\n",
       "        vertical-align: top;\n",
       "    }\n",
       "\n",
       "    .dataframe thead th {\n",
       "        text-align: right;\n",
       "    }\n",
       "</style>\n",
       "<table border=\"1\" class=\"dataframe\">\n",
       "  <thead>\n",
       "    <tr style=\"text-align: right;\">\n",
       "      <th></th>\n",
       "      <th>relative_path</th>\n",
       "      <th>label</th>\n",
       "    </tr>\n",
       "  </thead>\n",
       "  <tbody>\n",
       "    <tr>\n",
       "      <th>0</th>\n",
       "      <td>/Users/tristangclvs/Documents/ENSC/3A/S9/Spé ...</td>\n",
       "      <td>0.0</td>\n",
       "    </tr>\n",
       "    <tr>\n",
       "      <th>1</th>\n",
       "      <td>/Users/tristangclvs/Documents/ENSC/3A/S9/Spé ...</td>\n",
       "      <td>1.0</td>\n",
       "    </tr>\n",
       "    <tr>\n",
       "      <th>2</th>\n",
       "      <td>/Users/tristangclvs/Documents/ENSC/3A/S9/Spé ...</td>\n",
       "      <td>1.0</td>\n",
       "    </tr>\n",
       "    <tr>\n",
       "      <th>3</th>\n",
       "      <td>/Users/tristangclvs/Documents/ENSC/3A/S9/Spé ...</td>\n",
       "      <td>1.0</td>\n",
       "    </tr>\n",
       "    <tr>\n",
       "      <th>4</th>\n",
       "      <td>/Users/tristangclvs/Documents/ENSC/3A/S9/Spé ...</td>\n",
       "      <td>1.0</td>\n",
       "    </tr>\n",
       "  </tbody>\n",
       "</table>\n",
       "</div>"
      ],
      "text/plain": [
       "                                       relative_path  label\n",
       "0  /Users/tristangclvs/Documents/ENSC/3A/S9/Spé ...    0.0\n",
       "1  /Users/tristangclvs/Documents/ENSC/3A/S9/Spé ...    1.0\n",
       "2  /Users/tristangclvs/Documents/ENSC/3A/S9/Spé ...    1.0\n",
       "3  /Users/tristangclvs/Documents/ENSC/3A/S9/Spé ...    1.0\n",
       "4  /Users/tristangclvs/Documents/ENSC/3A/S9/Spé ...    1.0"
      ]
     },
     "execution_count": 2,
     "metadata": {},
     "output_type": "execute_result"
    }
   ],
   "source": [
    "download_path = Path.cwd() / \".dataset\"\n",
    "\n",
    "# Read metadata file\n",
    "labels_file = download_path / \"Y_train_ofTdMHi.csv\"\n",
    "df = pd.read_csv(labels_file)\n",
    "\n",
    "# Construct file path by concatenating fold and file name\n",
    "df[\"relative_path\"] = str(download_path) + \"/X_train/\" + df[\"id\"]\n",
    "df.drop(columns=[\"id\"], inplace=True)\n",
    "df.rename(columns={\"pos_label\": \"label\"}, inplace=True)\n",
    "# invert relative_path and label columns positions\n",
    "df = df[[\"relative_path\", \"label\"]]\n",
    "print(f\"There are ** {len(df)} ** audio files in the dataset.\", end=\"\\n\\n\")\n",
    "print(f\"{df['label'].value_counts()}\")\n",
    "df.head()"
   ]
  },
  {
   "cell_type": "markdown",
   "metadata": {},
   "source": [
    "Take one file to check mfcc with librosa"
   ]
  },
  {
   "cell_type": "code",
   "execution_count": 3,
   "metadata": {},
   "outputs": [
    {
     "name": "stdout",
     "output_type": "stream",
     "text": [
      "Audio data shape: (51200,), Sample rate: 256000\n"
     ]
    },
    {
     "data": {
      "image/png": "[encoded data removed]",
      "text/plain": [
       "<Figure size 640x480 with 1 Axes>"
      ]
     },
     "metadata": {},
     "output_type": "display_data"
    }
   ],
   "source": [
    "file_path = df.iloc[1, 0]\n",
    "audio_data, sr = librosa.load(file_path, sr=None)\n",
    "print(f\"Audio data shape: {audio_data.shape}, Sample rate: {sr}\")\n",
    "\n",
    "# Plot the audio signal\n",
    "fig, ax = plt.subplots(nrows=1, sharex=True)\n",
    "plt.plot(audio_data)\n",
    "plt.title('Waveform')\n",
    "plt.show()"
   ]
  },
  {
   "cell_type": "code",
   "execution_count": 4,
   "metadata": {},
   "outputs": [
    {
     "name": "stderr",
     "output_type": "stream",
     "text": [
      "/Users/tristangclvs/Documents/ENSC/3A/S9/Spé IA/projet/spe_IA_clics_odontocetes/.venv/lib/python3.11/site-packages/librosa/feature/spectral.py:2143: UserWarning: Empty filters detected in mel frequency basis. Some channels will produce empty responses. Try increasing your sampling rate (and fmax) or reducing n_mels.\n",
      "  mel_basis = filters.mel(sr=sr, n_fft=n_fft, **kwargs)\n"
     ]
    },
    {
     "data": {
      "text/plain": [
       "array([[-5.87434937e+02, -6.10608276e+02, -6.47601562e+02, ...,\n",
       "        -7.11389832e+02, -6.39985657e+02, -6.06298767e+02],\n",
       "       [ 1.00062149e+02,  7.29735870e+01, -4.71224880e+00, ...,\n",
       "         3.30139313e+01,  9.36258774e+01,  1.10256996e+02],\n",
       "       [-3.51189117e+01, -2.84769020e+01, -3.56545715e+01, ...,\n",
       "        -4.42377205e+01, -3.34627762e+01, -3.60441856e+01],\n",
       "       ...,\n",
       "       [-1.05478287e-01, -7.69059181e-01, -1.04429626e+01, ...,\n",
       "        -4.63013649e-01,  1.15666771e+00,  1.49537373e+00],\n",
       "       [ 4.46856499e-01,  2.77732611e+00,  4.64340448e+00, ...,\n",
       "        -5.87869310e+00, -2.35181808e+00, -2.29048991e+00],\n",
       "       [-2.64251089e+00, -4.71352196e+00, -1.23549843e+00, ...,\n",
       "        -6.10738754e+00, -2.12131715e+00, -1.84496689e+00]], dtype=float32)"
      ]
     },
     "execution_count": 4,
     "metadata": {},
     "output_type": "execute_result"
    }
   ],
   "source": [
    "mfccs = librosa.feature.mfcc(y=audio_data, sr=sr, n_mfcc=40)\n",
    "mfccs"
   ]
  },
  {
   "cell_type": "code",
   "execution_count": 5,
   "metadata": {},
   "outputs": [],
   "source": [
    "# def extract_features(file_path):\n",
    "#     audio_data, sr = librosa.load(file_path, sr=None)\n",
    "#     mfccs = librosa.feature.mfcc(y=audio_data, sr=sr, n_mfcc=40)\n",
    "#     mfccs_scaled_features = np.mean(mfccs.T,axis=0)\n",
    "#     return mfccs_scaled_features"
   ]
  },
  {
   "cell_type": "code",
   "execution_count": 6,
   "metadata": {},
   "outputs": [],
   "source": [
    "class AudioUtil:\n",
    "    \"\"\"Static class for audio processing helper functions.\"\"\"\n",
    "    \n",
    "    @staticmethod\n",
    "    def open(audio_file: str):\n",
    "        \"\"\"Load an audio file. Return the signal as a tensor and the sample rate\"\"\"\n",
    "        sig, sr = librosa.load(audio_file, sr=256000)\n",
    "        return (sig, sr)\n",
    "    \n",
    "    @staticmethod\n",
    "    def get_audio_duration(sig, sr):\n",
    "        \"\"\"Return the duration of an audio signal in seconds\"\"\"\n",
    "        return librosa.get_duration(sig, sr)\n",
    "    \n",
    "    @staticmethod\n",
    "    def mel_spectro_gram(sig: np.array, sr: int, n_mels=32, n_fft=1024):\n",
    "        \"\"\"Generate a Spectrogram\"\"\"\n",
    "        # get mel spectrogram\n",
    "        spec = librosa.feature.melspectrogram(y=sig, sr=sr)\n",
    "        spec = librosa.amplitude_to_db(spec)\n",
    "        return spec\n",
    "    \n",
    "    @staticmethod\n",
    "    def extract_mfccs(file_path):\n",
    "        audio_data, sr = librosa.load(file_path, sr=None)\n",
    "        mfccs = librosa.feature.mfcc(y=audio_data, sr=sr, n_mfcc=40)\n",
    "        mfccs_scaled_features = np.mean(mfccs.T,axis=0)\n",
    "        return mfccs_scaled_features\n",
    "    \n",
    "    @staticmethod\n",
    "    def get_audio_specs_size(spec):\n",
    "        \"\"\"Return the size of a spectrogram image\"\"\"\n",
    "        return spec.shape\n",
    "    \n",
    "    @staticmethod\n",
    "    def plot_mel_spectro_gram(spec: np.array, sr: int):\n",
    "        \"\"\"Plot a Spectrogram\"\"\"\n",
    "        # plot mel spectrogram\n",
    "        fig, ax = plt.subplots()\n",
    "        S_dB = librosa.power_to_db(spec, ref=np.max)\n",
    "        img = librosa.display.specshow(S_dB, x_axis='time',\n",
    "                                y_axis='mel', sr=sr,\n",
    "                                ax=ax)\n",
    "        fig.colorbar(img, ax=ax, format='%+2.0f dB')\n",
    "        ax.set(title='Mel-frequency spectrogram')"
   ]
  },
  {
   "cell_type": "code",
   "execution_count": 7,
   "metadata": {},
   "outputs": [],
   "source": [
    "def save_spectrograms(nb_files = len(df)):\n",
    "    audio_util = AudioUtil()\n",
    "    label_files = np.empty(0)\n",
    "    audio_mfccs = []\n",
    "    features_and_labels = []\n",
    "    print(\"Starting mfccs generation...\")\n",
    "    for line_num in tqdm(range(nb_files), unit=\"file\", desc=\"Generating mfccs\"):\n",
    "        file_path = df.loc[line_num, \"relative_path\"]\n",
    "        mfccs = audio_util.extract_mfccs(file_path)\n",
    "        audio_mfccs.append(mfccs)\n",
    "        label_files = np.append(label_files, df.loc[line_num, \"label\"])\n",
    "        features_and_labels.append((mfccs, df.loc[line_num, \"label\"]))\n",
    "    print(\"Mfccs generated !\", end='\\n\\n')\n",
    "\n",
    "    print(\"Saving mfccs...\")\n",
    "    os.mkdir(\"numpy_data\") if not os.path.exists(\"numpy_data\") else None\n",
    "    np.save(os.path.join(\"numpy_data\", \"audio_mfccs.npy\"), audio_mfccs)\n",
    "    np.save(os.path.join(\"numpy_data\", \"label_files.npy\"), label_files)\n",
    "    print(\"Mfccs saved !\")\n",
    "    features_and_labels = pd.DataFrame(features_and_labels, columns=[\"mfccs\", \"label\"])\n",
    "\n",
    "    print(\"Global shape : \", features_and_labels.shape)\n",
    "    print(features_and_labels.head())\n",
    "\n",
    "# save_spectrograms()"
   ]
  },
  {
   "cell_type": "code",
   "execution_count": 8,
   "metadata": {},
   "outputs": [
    {
     "name": "stdout",
     "output_type": "stream",
     "text": [
      "(23168, 40)\n",
      "(23168,)\n"
     ]
    }
   ],
   "source": [
    "def get_spectrograms_from_file(file_path):\n",
    "    audio_specs = np.load(file_path)\n",
    "    return np.array(audio_specs.tolist())\n",
    "\n",
    "def get_labels_from_file(file_path):\n",
    "    label_files = np.load(file_path)\n",
    "    return np.array(label_files.tolist())\n",
    "\n",
    "X = get_spectrograms_from_file(os.path.join(os.getcwd(),\"numpy_data\", \"audio_mfccs.npy\"))\n",
    "y = get_labels_from_file(os.path.join(os.getcwd(),\"numpy_data\", \"label_files.npy\"))\n",
    "\n",
    "print(X.shape)\n",
    "print(y.shape)"
   ]
  },
  {
   "cell_type": "code",
   "execution_count": 9,
   "metadata": {},
   "outputs": [
    {
     "name": "stdout",
     "output_type": "stream",
     "text": [
      "(18534, 40)\n",
      "(40,)\n",
      "(4634, 40)\n"
     ]
    }
   ],
   "source": [
    "from sklearn.model_selection import train_test_split\n",
    "X_train, X_test, y_train, y_test=train_test_split(X,y,train_size=0.8)\n",
    "# X_train = X_train[..., np.newaxis]\n",
    "# y_train = y_train[..., np.newaxis]\n",
    "\n",
    "print(X_train.shape)\n",
    "print(X_train[0].shape)\n",
    "print(X_test.shape)\n"
   ]
  },
  {
   "cell_type": "markdown",
   "metadata": {},
   "source": [
    "## Time to create and train a model"
   ]
  },
  {
   "cell_type": "code",
   "execution_count": 10,
   "metadata": {},
   "outputs": [
    {
     "name": "stdout",
     "output_type": "stream",
     "text": [
      "2.14.0\n"
     ]
    }
   ],
   "source": [
    "import tensorflow as tf\n",
    "print(tf.__version__)"
   ]
  },
  {
   "cell_type": "code",
   "execution_count": 11,
   "metadata": {},
   "outputs": [],
   "source": [
    "from tensorflow.keras.models import Sequential\n",
    "from tensorflow.keras.layers import Dense,Dropout,Activation,Flatten\n",
    "from tensorflow.keras.optimizers import Adam\n",
    "from sklearn import metrics"
   ]
  },
  {
   "cell_type": "code",
   "execution_count": null,
   "metadata": {},
   "outputs": [],
   "source": [
    "model = Sequential()\n",
    "\n",
    "# Input layer\n",
    "model.add(Dense(256, input_shape=(40,)))\n",
    "model.add(Activation('relu'))\n",
    "model.add(Dropout(0.4))\n",
    "\n",
    "# Hidden layers\n",
    "model.add(Dense(256))\n",
    "model.add(Activation('relu'))\n",
    "model.add(Dropout(0.3))\n",
    "\n",
    "model.add(Dense(256))\n",
    "model.add(Activation('relu'))\n",
    "model.add(Dropout(0.3))\n",
    "\n",
    "model.add(Dense(128))\n",
    "model.add(Activation('relu'))\n",
    "model.add(Dropout(0.3))\n",
    "\n",
    "# Output layer\n",
    "model.add(Dense(1, activation='sigmoid'))  \n",
    "\n",
    "model.summary()\n",
    "is_cnn = \"\"\n"
   ]
  },
  {
   "cell_type": "code",
   "execution_count": 50,
   "metadata": {},
   "outputs": [
    {
     "name": "stdout",
     "output_type": "stream",
     "text": [
      "Model: \"sequential_2\"\n",
      "_________________________________________________________________\n",
      " Layer (type)                Output Shape              Param #   \n",
      "=================================================================\n",
      " reshape_2 (Reshape)         (None, 40, 1)             0         \n",
      "                                                                 \n",
      " lambda_2 (Lambda)           (None, 40, 1, 1)          0         \n",
      "                                                                 \n",
      " conv2d_2 (Conv2D)           (None, 38, 1, 256)        1024      \n",
      "                                                                 \n",
      " dropout_8 (Dropout)         (None, 38, 1, 256)        0         \n",
      "                                                                 \n",
      " conv2d_3 (Conv2D)           (None, 38, 1, 128)        98432     \n",
      "                                                                 \n",
      " dropout_9 (Dropout)         (None, 38, 1, 128)        0         \n",
      "                                                                 \n",
      " flatten_2 (Flatten)         (None, 4864)              0         \n",
      "                                                                 \n",
      " dense_14 (Dense)            (None, 256)               1245440   \n",
      "                                                                 \n",
      " dropout_10 (Dropout)        (None, 256)               0         \n",
      "                                                                 \n",
      " dense_15 (Dense)            (None, 256)               65792     \n",
      "                                                                 \n",
      " dense_16 (Dense)            (None, 128)               32896     \n",
      "                                                                 \n",
      " dropout_11 (Dropout)        (None, 128)               0         \n",
      "                                                                 \n",
      " dense_17 (Dense)            (None, 128)               16512     \n",
      "                                                                 \n",
      " dropout_12 (Dropout)        (None, 128)               0         \n",
      "                                                                 \n",
      " dense_18 (Dense)            (None, 64)                8256      \n",
      "                                                                 \n",
      " dense_19 (Dense)            (None, 64)                4160      \n",
      "                                                                 \n",
      " dense_20 (Dense)            (None, 1)                 65        \n",
      "                                                                 \n",
      "=================================================================\n",
      "Total params: 1472577 (5.62 MB)\n",
      "Trainable params: 1472577 (5.62 MB)\n",
      "Non-trainable params: 0 (0.00 Byte)\n",
      "_________________________________________________________________\n"
     ]
    }
   ],
   "source": [
    "def build_model():\n",
    "    model = tf.keras.Sequential()\n",
    "    model.add(tf.keras.layers.Reshape((40, 1), input_shape=(40,)))\n",
    "\n",
    "    # Add a Lambda layer to add the batch size and channel dimensions\n",
    "    model.add(tf.keras.layers.Lambda(lambda x: tf.expand_dims(x, axis=-1)))\n",
    "\n",
    "    # Add the first convolutional layer\n",
    "    model.add(tf.keras.layers.Conv2D(256, kernel_size=(3, 1), activation='relu', strides=(1, 1))) \n",
    "    model.add(tf.keras.layers.Dropout(0.2))\n",
    "\n",
    "    # Add the second convolutional layer\n",
    "    model.add(tf.keras.layers.Conv2D(128, kernel_size=(3, 1), activation='relu', strides=(1, 1), padding='same')) \n",
    "    model.add(tf.keras.layers.Dropout(0.2))\n",
    "\n",
    "    # Flatten the output from the convolutional layers\n",
    "    model.add(tf.keras.layers.Flatten())\n",
    "\n",
    "    model.add(tf.keras.layers.Dense(256, activation='relu'))\n",
    "    model.add(tf.keras.layers.Dropout(0.2))\n",
    "    model.add(tf.keras.layers.Dense(256, activation='relu'))\n",
    "\n",
    "    model.add(tf.keras.layers.Dense(128, activation='relu'))\n",
    "    model.add(tf.keras.layers.Dropout(0.2))\n",
    "\n",
    "    model.add(tf.keras.layers.Dense(128, activation='relu'))\n",
    "    model.add(tf.keras.layers.Dropout(0.2))\n",
    "    model.add(tf.keras.layers.Dense(64, activation='relu'))\n",
    "    model.add(tf.keras.layers.Dense(64, activation='relu'))\n",
    "\n",
    "    model.add(tf.keras.layers.Dense(1, activation='sigmoid'))\n",
    "    \n",
    "    return model\n",
    "\n",
    "model = build_model()\n",
    "model.summary()\n",
    "is_cnn = \"CNN\""
   ]
  },
  {
   "cell_type": "code",
   "execution_count": 51,
   "metadata": {},
   "outputs": [],
   "source": [
    "model.compile(loss='binary_crossentropy',metrics=['accuracy'],optimizer='adam')"
   ]
  },
  {
   "cell_type": "code",
   "execution_count": 52,
   "metadata": {},
   "outputs": [
    {
     "name": "stdout",
     "output_type": "stream",
     "text": [
      "Epoch 1/200\n",
      "580/580 [==============================] - 6s 9ms/step - loss: 0.5042 - accuracy: 0.7371 - val_loss: 0.2469 - val_accuracy: 0.9074\n",
      "Epoch 2/200\n",
      "580/580 [==============================] - 5s 9ms/step - loss: 0.3022 - accuracy: 0.8726 - val_loss: 0.2177 - val_accuracy: 0.9167\n",
      "Epoch 3/200\n",
      "580/580 [==============================] - 5s 9ms/step - loss: 0.2359 - accuracy: 0.9034 - val_loss: 0.1658 - val_accuracy: 0.9363\n",
      "Epoch 4/200\n",
      "580/580 [==============================] - 5s 9ms/step - loss: 0.2008 - accuracy: 0.9176 - val_loss: 0.1312 - val_accuracy: 0.9486\n",
      "Epoch 5/200\n",
      "580/580 [==============================] - 5s 9ms/step - loss: 0.1904 - accuracy: 0.9227 - val_loss: 0.1250 - val_accuracy: 0.9484\n",
      "Epoch 6/200\n",
      "580/580 [==============================] - 6s 10ms/step - loss: 0.1722 - accuracy: 0.9282 - val_loss: 0.1184 - val_accuracy: 0.9504\n",
      "Epoch 7/200\n",
      "580/580 [==============================] - 5s 9ms/step - loss: 0.1600 - accuracy: 0.9349 - val_loss: 0.1277 - val_accuracy: 0.9540\n",
      "Epoch 8/200\n",
      "580/580 [==============================] - 5s 9ms/step - loss: 0.1487 - accuracy: 0.9382 - val_loss: 0.1003 - val_accuracy: 0.9594\n",
      "Epoch 9/200\n",
      "580/580 [==============================] - 5s 9ms/step - loss: 0.1421 - accuracy: 0.9442 - val_loss: 0.1141 - val_accuracy: 0.9568\n",
      "Epoch 10/200\n",
      "580/580 [==============================] - 5s 9ms/step - loss: 0.1443 - accuracy: 0.9424 - val_loss: 0.1006 - val_accuracy: 0.9633\n",
      "Epoch 11/200\n",
      "580/580 [==============================] - 5s 9ms/step - loss: 0.1319 - accuracy: 0.9469 - val_loss: 0.1059 - val_accuracy: 0.9564\n",
      "Epoch 12/200\n",
      "580/580 [==============================] - 5s 9ms/step - loss: 0.1337 - accuracy: 0.9454 - val_loss: 0.1085 - val_accuracy: 0.9577\n"
     ]
    }
   ],
   "source": [
    "from tensorflow.keras.callbacks import EarlyStopping\n",
    "from datetime import datetime \n",
    "\n",
    "num_epochs = 200\n",
    "num_batch_size = 32\n",
    "\n",
    "# Create an EarlyStopping callback\n",
    "early_stopping_callback = EarlyStopping(monitor='val_loss', patience=4, restore_best_weights=True)\n",
    "\n",
    "model.fit(X_train, y_train, batch_size=num_batch_size, epochs=num_epochs, validation_data=(X_test, y_test), verbose=1, callbacks=[early_stopping_callback]);\n"
   ]
  },
  {
   "cell_type": "code",
   "execution_count": 53,
   "metadata": {},
   "outputs": [
    {
     "name": "stdout",
     "output_type": "stream",
     "text": [
      "loss: 0.1003\n",
      "accuracy: 0.9594\n"
     ]
    }
   ],
   "source": [
    "evaluation_results = model.evaluate(X_test,y_test,verbose=0)\n",
    "\n",
    "for metric_name, result in zip(model.metrics_names, evaluation_results):\n",
    "    print(f\"{metric_name}: {result:.4f}\")\n"
   ]
  },
  {
   "cell_type": "code",
   "execution_count": 54,
   "metadata": {},
   "outputs": [
    {
     "name": "stderr",
     "output_type": "stream",
     "text": [
      "/Users/tristangclvs/Documents/ENSC/3A/S9/Spé IA/projet/spe_IA_clics_odontocetes/.venv/lib/python3.11/site-packages/keras/src/engine/training.py:3079: UserWarning: You are saving your model as an HDF5 file via `model.save()`. This file format is considered legacy. We recommend using instead the native Keras format, e.g. `model.save('my_model.keras')`.\n",
      "  saving_api.save_model(\n"
     ]
    }
   ],
   "source": [
    "# Save model \n",
    "model.save(os.path.join(os.getcwd(),\"models\",f\"model_{evaluation_results[1]:.4f}_{is_cnn}.h5\"))"
   ]
  },
  {
   "cell_type": "markdown",
   "metadata": {},
   "source": [
    "## Test the model with test files"
   ]
  },
  {
   "cell_type": "code",
   "execution_count": 56,
   "metadata": {},
   "outputs": [
    {
     "data": {
      "application/vnd.jupyter.widget-view+json": {
       "model_id": "6676c77775864e40a1a99a1ce34c419f",
       "version_major": 2,
       "version_minor": 0
      },
      "text/plain": [
       "Dropdown(description='Select a model:', options=('model_0.9079.h5', 'model_v1.h5', 'model_0.9057.h5', 'model_0…"
      ]
     },
     "metadata": {},
     "output_type": "display_data"
    },
    {
     "data": {
      "application/vnd.jupyter.widget-view+json": {
       "model_id": "8c17b0464f034eefa96b1a326e1de338",
       "version_major": 2,
       "version_minor": 0
      },
      "text/plain": [
       "Button(description='Show selected model', style=ButtonStyle())"
      ]
     },
     "metadata": {},
     "output_type": "display_data"
    },
    {
     "data": {
      "application/vnd.jupyter.widget-view+json": {
       "model_id": "e9c971efd5334bf8b48e52d7a5a0d1f7",
       "version_major": 2,
       "version_minor": 0
      },
      "text/plain": [
       "Output()"
      ]
     },
     "metadata": {},
     "output_type": "display_data"
    }
   ],
   "source": [
    "import ipywidgets as widgets\n",
    "from tensorflow.keras.models import load_model\n",
    "options = [model for model in os.listdir(os.path.join(os.getcwd(),\"models\")) if model.endswith(\".h5\")]\n",
    "dropdown = widgets.Dropdown(options=options, value=options[0], description='Select a model:')\n",
    "button = widgets.Button(description='Show selected model')\n",
    "\n",
    "output = widgets.Output()\n",
    "selected_model = model\n",
    "def on_button_click(b):\n",
    "    global selected_model\n",
    "    with output:\n",
    "        selected_model = load_model(os.path.join(os.getcwd(),\"models\",dropdown.value))\n",
    "        print(f\"Selected model: {dropdown.value}\")\n",
    "\n",
    "button.on_click(on_button_click)\n",
    "\n",
    "display(dropdown)\n",
    "display(button)\n",
    "display(output)"
   ]
  },
  {
   "cell_type": "code",
   "execution_count": 57,
   "metadata": {},
   "outputs": [
    {
     "name": "stdout",
     "output_type": "stream",
     "text": [
      "Model: \"sequential_2\"\n",
      "_________________________________________________________________\n",
      " Layer (type)                Output Shape              Param #   \n",
      "=================================================================\n",
      " reshape_2 (Reshape)         (None, 40, 1)             0         \n",
      "                                                                 \n",
      " lambda_2 (Lambda)           (None, 40, 1, 1)          0         \n",
      "                                                                 \n",
      " conv2d_2 (Conv2D)           (None, 38, 1, 256)        1024      \n",
      "                                                                 \n",
      " dropout_8 (Dropout)         (None, 38, 1, 256)        0         \n",
      "                                                                 \n",
      " conv2d_3 (Conv2D)           (None, 38, 1, 128)        98432     \n",
      "                                                                 \n",
      " dropout_9 (Dropout)         (None, 38, 1, 128)        0         \n",
      "                                                                 \n",
      " flatten_2 (Flatten)         (None, 4864)              0         \n",
      "                                                                 \n",
      " dense_14 (Dense)            (None, 256)               1245440   \n",
      "                                                                 \n",
      " dropout_10 (Dropout)        (None, 256)               0         \n",
      "                                                                 \n",
      " dense_15 (Dense)            (None, 256)               65792     \n",
      "                                                                 \n",
      " dense_16 (Dense)            (None, 128)               32896     \n",
      "                                                                 \n",
      " dropout_11 (Dropout)        (None, 128)               0         \n",
      "                                                                 \n",
      " dense_17 (Dense)            (None, 128)               16512     \n",
      "                                                                 \n",
      " dropout_12 (Dropout)        (None, 128)               0         \n",
      "                                                                 \n",
      " dense_18 (Dense)            (None, 64)                8256      \n",
      "                                                                 \n",
      " dense_19 (Dense)            (None, 64)                4160      \n",
      "                                                                 \n",
      " dense_20 (Dense)            (None, 1)                 65        \n",
      "                                                                 \n",
      "=================================================================\n",
      "Total params: 1472577 (5.62 MB)\n",
      "Trainable params: 1472577 (5.62 MB)\n",
      "Non-trainable params: 0 (0.00 Byte)\n",
      "_________________________________________________________________\n",
      "None\n"
     ]
    }
   ],
   "source": [
    "print(selected_model.summary())"
   ]
  },
  {
   "cell_type": "code",
   "execution_count": 58,
   "metadata": {},
   "outputs": [
    {
     "name": "stdout",
     "output_type": "stream",
     "text": [
      "There are ** 950 ** audio files in the test dataset.\n",
      "\n"
     ]
    },
    {
     "data": {
      "text/html": [
       "<div>\n",
       "<style scoped>\n",
       "    .dataframe tbody tr th:only-of-type {\n",
       "        vertical-align: middle;\n",
       "    }\n",
       "\n",
       "    .dataframe tbody tr th {\n",
       "        vertical-align: top;\n",
       "    }\n",
       "\n",
       "    .dataframe thead th {\n",
       "        text-align: right;\n",
       "    }\n",
       "</style>\n",
       "<table border=\"1\" class=\"dataframe\">\n",
       "  <thead>\n",
       "    <tr style=\"text-align: right;\">\n",
       "      <th></th>\n",
       "      <th>relative_path</th>\n",
       "      <th>label</th>\n",
       "    </tr>\n",
       "  </thead>\n",
       "  <tbody>\n",
       "    <tr>\n",
       "      <th>0</th>\n",
       "      <td>/Users/tristangclvs/Documents/ENSC/3A/S9/Spé ...</td>\n",
       "      <td>0.000000</td>\n",
       "    </tr>\n",
       "    <tr>\n",
       "      <th>1</th>\n",
       "      <td>/Users/tristangclvs/Documents/ENSC/3A/S9/Spé ...</td>\n",
       "      <td>0.197364</td>\n",
       "    </tr>\n",
       "    <tr>\n",
       "      <th>2</th>\n",
       "      <td>/Users/tristangclvs/Documents/ENSC/3A/S9/Spé ...</td>\n",
       "      <td>1.000000</td>\n",
       "    </tr>\n",
       "    <tr>\n",
       "      <th>3</th>\n",
       "      <td>/Users/tristangclvs/Documents/ENSC/3A/S9/Spé ...</td>\n",
       "      <td>0.826255</td>\n",
       "    </tr>\n",
       "    <tr>\n",
       "      <th>4</th>\n",
       "      <td>/Users/tristangclvs/Documents/ENSC/3A/S9/Spé ...</td>\n",
       "      <td>0.000000</td>\n",
       "    </tr>\n",
       "  </tbody>\n",
       "</table>\n",
       "</div>"
      ],
      "text/plain": [
       "                                       relative_path     label\n",
       "0  /Users/tristangclvs/Documents/ENSC/3A/S9/Spé ...  0.000000\n",
       "1  /Users/tristangclvs/Documents/ENSC/3A/S9/Spé ...  0.197364\n",
       "2  /Users/tristangclvs/Documents/ENSC/3A/S9/Spé ...  1.000000\n",
       "3  /Users/tristangclvs/Documents/ENSC/3A/S9/Spé ...  0.826255\n",
       "4  /Users/tristangclvs/Documents/ENSC/3A/S9/Spé ...  0.000000"
      ]
     },
     "execution_count": 58,
     "metadata": {},
     "output_type": "execute_result"
    }
   ],
   "source": [
    "download_path = Path.cwd() / \".dataset\"\n",
    "\n",
    "# Read metadata file\n",
    "labels_file = download_path / \"Y_random_Xwjr6aB.csv\"\n",
    "df_test = pd.read_csv(labels_file)\n",
    "\n",
    "# Construct file path by concatenating folder and file name\n",
    "df_test[\"relative_path\"] = str(download_path) + \"/X_test/\" + df_test[\"id\"]\n",
    "df_test.drop(columns=[\"id\"], inplace=True)\n",
    "df_test.rename(columns={\"pos_label\": \"label\"}, inplace=True)\n",
    "# invert relative_path and label columns positions\n",
    "df_test = df_test[[\"relative_path\", \"label\"]]\n",
    "print(f\"There are ** {len(df_test)} ** audio files in the test dataset.\", end=\"\\n\\n\")\n",
    "df_test.head()"
   ]
  },
  {
   "cell_type": "code",
   "execution_count": 59,
   "metadata": {},
   "outputs": [
    {
     "name": "stdout",
     "output_type": "stream",
     "text": [
      "Starting mfccs generation...\n"
     ]
    },
    {
     "name": "stderr",
     "output_type": "stream",
     "text": [
      "Generating mfccs:   0%|          | 0/950 [00:00<?, ?file/s]/Users/tristangclvs/Documents/ENSC/3A/S9/Spé IA/projet/spe_IA_clics_odontocetes/.venv/lib/python3.11/site-packages/librosa/feature/spectral.py:2143: UserWarning: Empty filters detected in mel frequency basis. Some channels will produce empty responses. Try increasing your sampling rate (and fmax) or reducing n_mels.\n",
      "  mel_basis = filters.mel(sr=sr, n_fft=n_fft, **kwargs)\n",
      "Generating mfccs:   0%|          | 2/950 [00:00<01:06, 14.23file/s]"
     ]
    },
    {
     "name": "stdout",
     "output_type": "stream",
     "text": [
      "[[0.6534198]]\n"
     ]
    },
    {
     "name": "stderr",
     "output_type": "stream",
     "text": [
      "Generating mfccs:   0%|          | 4/950 [00:00<01:01, 15.30file/s]"
     ]
    },
    {
     "name": "stdout",
     "output_type": "stream",
     "text": [
      "[[0.914766]]\n"
     ]
    },
    {
     "name": "stderr",
     "output_type": "stream",
     "text": [
      "Generating mfccs:   1%|▏         | 14/950 [00:00<00:34, 26.93file/s]"
     ]
    },
    {
     "name": "stdout",
     "output_type": "stream",
     "text": [
      "[[0.8169035]]\n",
      "[[0.82782966]]\n"
     ]
    },
    {
     "name": "stderr",
     "output_type": "stream",
     "text": [
      "Generating mfccs:   3%|▎         | 26/950 [00:01<00:41, 22.27file/s]"
     ]
    },
    {
     "name": "stdout",
     "output_type": "stream",
     "text": [
      "[[0.5605713]]\n"
     ]
    },
    {
     "name": "stderr",
     "output_type": "stream",
     "text": [
      "Generating mfccs:   6%|▌         | 59/950 [00:02<00:32, 27.32file/s]"
     ]
    },
    {
     "name": "stdout",
     "output_type": "stream",
     "text": [
      "[[0.8069528]]\n",
      "[[0.6293084]]\n"
     ]
    },
    {
     "name": "stderr",
     "output_type": "stream",
     "text": [
      "Generating mfccs:   8%|▊         | 80/950 [00:03<00:31, 27.99file/s]"
     ]
    },
    {
     "name": "stdout",
     "output_type": "stream",
     "text": [
      "[[0.67376584]]\n"
     ]
    },
    {
     "name": "stderr",
     "output_type": "stream",
     "text": [
      "Generating mfccs:  14%|█▍        | 136/950 [00:04<00:26, 30.78file/s]"
     ]
    },
    {
     "name": "stdout",
     "output_type": "stream",
     "text": [
      "[[0.7151063]]\n"
     ]
    },
    {
     "name": "stderr",
     "output_type": "stream",
     "text": [
      "Generating mfccs:  16%|█▋        | 155/950 [00:05<00:25, 30.66file/s]"
     ]
    },
    {
     "name": "stdout",
     "output_type": "stream",
     "text": [
      "[[0.59223586]]\n"
     ]
    },
    {
     "name": "stderr",
     "output_type": "stream",
     "text": [
      "Generating mfccs:  18%|█▊        | 167/950 [00:05<00:24, 32.25file/s]"
     ]
    },
    {
     "name": "stdout",
     "output_type": "stream",
     "text": [
      "[[0.7045089]]\n"
     ]
    },
    {
     "name": "stderr",
     "output_type": "stream",
     "text": [
      "Generating mfccs:  21%|██        | 199/950 [00:06<00:23, 32.59file/s]"
     ]
    },
    {
     "name": "stdout",
     "output_type": "stream",
     "text": [
      "[[0.5293771]]\n",
      "[[0.81639236]]\n"
     ]
    },
    {
     "name": "stderr",
     "output_type": "stream",
     "text": [
      "Generating mfccs:  27%|██▋       | 252/950 [00:08<00:19, 35.73file/s]"
     ]
    },
    {
     "name": "stdout",
     "output_type": "stream",
     "text": [
      "[[0.59550726]]\n",
      "[[0.87086225]]\n"
     ]
    },
    {
     "name": "stderr",
     "output_type": "stream",
     "text": [
      "Generating mfccs:  28%|██▊       | 265/950 [00:09<00:20, 33.40file/s]"
     ]
    },
    {
     "name": "stdout",
     "output_type": "stream",
     "text": [
      "[[0.98822695]]\n",
      "[[0.9730012]]\n"
     ]
    },
    {
     "name": "stderr",
     "output_type": "stream",
     "text": [
      "Generating mfccs:  28%|██▊       | 269/950 [00:09<00:22, 30.39file/s]"
     ]
    },
    {
     "name": "stdout",
     "output_type": "stream",
     "text": [
      "[[0.8702753]]\n"
     ]
    },
    {
     "name": "stderr",
     "output_type": "stream",
     "text": [
      "Generating mfccs:  29%|██▉       | 276/950 [00:09<00:27, 24.59file/s]"
     ]
    },
    {
     "name": "stdout",
     "output_type": "stream",
     "text": [
      "[[0.68436563]]\n",
      "[[0.99977404]]\n"
     ]
    },
    {
     "name": "stderr",
     "output_type": "stream",
     "text": [
      "Generating mfccs:  30%|███       | 287/950 [00:09<00:23, 28.67file/s]"
     ]
    },
    {
     "name": "stdout",
     "output_type": "stream",
     "text": [
      "[[0.64074177]]\n",
      "[[0.86103106]]\n",
      "[[0.99700654]]\n"
     ]
    },
    {
     "name": "stderr",
     "output_type": "stream",
     "text": [
      "Generating mfccs:  32%|███▏      | 306/950 [00:10<00:24, 26.58file/s]"
     ]
    },
    {
     "name": "stdout",
     "output_type": "stream",
     "text": [
      "[[0.99651957]]\n"
     ]
    },
    {
     "name": "stderr",
     "output_type": "stream",
     "text": [
      "Generating mfccs:  33%|███▎      | 316/950 [00:10<00:21, 29.32file/s]"
     ]
    },
    {
     "name": "stdout",
     "output_type": "stream",
     "text": [
      "[[0.9665418]]\n",
      "[[0.9962549]]\n"
     ]
    },
    {
     "name": "stderr",
     "output_type": "stream",
     "text": [
      "Generating mfccs:  34%|███▍      | 326/950 [00:11<00:22, 28.21file/s]"
     ]
    },
    {
     "name": "stdout",
     "output_type": "stream",
     "text": [
      "[[0.58724546]]\n",
      "[[0.63363665]]\n",
      "[[0.9670778]]\n"
     ]
    },
    {
     "name": "stderr",
     "output_type": "stream",
     "text": [
      "Generating mfccs:  35%|███▍      | 330/950 [00:11<00:23, 26.95file/s]"
     ]
    },
    {
     "name": "stdout",
     "output_type": "stream",
     "text": [
      "[[0.67807657]]\n"
     ]
    },
    {
     "name": "stderr",
     "output_type": "stream",
     "text": [
      "Generating mfccs:  36%|███▌      | 340/950 [00:11<00:23, 25.99file/s]"
     ]
    },
    {
     "name": "stdout",
     "output_type": "stream",
     "text": [
      "[[0.56054294]]\n",
      "[[0.6618977]]\n"
     ]
    },
    {
     "name": "stderr",
     "output_type": "stream",
     "text": [
      "Generating mfccs:  37%|███▋      | 351/950 [00:12<00:19, 30.74file/s]"
     ]
    },
    {
     "name": "stdout",
     "output_type": "stream",
     "text": [
      "[[0.9923914]]\n",
      "[[0.5835712]]\n",
      "[[0.88776517]]\n"
     ]
    },
    {
     "name": "stderr",
     "output_type": "stream",
     "text": [
      "Generating mfccs:  38%|███▊      | 359/950 [00:12<00:18, 31.61file/s]"
     ]
    },
    {
     "name": "stdout",
     "output_type": "stream",
     "text": [
      "[[0.5209276]]\n",
      "[[0.63779277]]\n"
     ]
    },
    {
     "name": "stderr",
     "output_type": "stream",
     "text": [
      "Generating mfccs:  38%|███▊      | 363/950 [00:12<00:19, 30.80file/s]"
     ]
    },
    {
     "name": "stdout",
     "output_type": "stream",
     "text": [
      "[[0.9967974]]\n",
      "[[0.5937989]]\n",
      "[[0.63514036]]\n",
      "[[0.98887724]]\n"
     ]
    },
    {
     "name": "stderr",
     "output_type": "stream",
     "text": [
      "Generating mfccs:  39%|███▉      | 371/950 [00:12<00:20, 28.23file/s]"
     ]
    },
    {
     "name": "stdout",
     "output_type": "stream",
     "text": [
      "[[0.8528544]]\n",
      "[[0.6305212]]\n",
      "[[0.6754912]]\n"
     ]
    },
    {
     "name": "stderr",
     "output_type": "stream",
     "text": [
      "Generating mfccs:  40%|███▉      | 377/950 [00:13<00:21, 26.29file/s]"
     ]
    },
    {
     "name": "stdout",
     "output_type": "stream",
     "text": [
      "[[0.99994934]]\n",
      "[[0.97739667]]\n"
     ]
    },
    {
     "name": "stderr",
     "output_type": "stream",
     "text": [
      "Generating mfccs:  40%|████      | 384/950 [00:13<00:23, 23.79file/s]"
     ]
    },
    {
     "name": "stdout",
     "output_type": "stream",
     "text": [
      "[[0.6458805]]\n"
     ]
    },
    {
     "name": "stderr",
     "output_type": "stream",
     "text": [
      "Generating mfccs:  41%|████▏     | 393/950 [00:13<00:21, 25.63file/s]"
     ]
    },
    {
     "name": "stdout",
     "output_type": "stream",
     "text": [
      "[[0.9446767]]\n",
      "[[0.9810575]]\n"
     ]
    },
    {
     "name": "stderr",
     "output_type": "stream",
     "text": [
      "Generating mfccs:  42%|████▏     | 403/950 [00:14<00:19, 27.65file/s]"
     ]
    },
    {
     "name": "stdout",
     "output_type": "stream",
     "text": [
      "[[0.6325328]]\n"
     ]
    },
    {
     "name": "stderr",
     "output_type": "stream",
     "text": [
      "Generating mfccs:  44%|████▎     | 414/950 [00:14<00:17, 30.46file/s]"
     ]
    },
    {
     "name": "stdout",
     "output_type": "stream",
     "text": [
      "[[0.5889517]]\n",
      "[[0.7585734]]\n"
     ]
    },
    {
     "name": "stderr",
     "output_type": "stream",
     "text": [
      "Generating mfccs:  44%|████▍     | 418/950 [00:14<00:18, 28.28file/s]"
     ]
    },
    {
     "name": "stdout",
     "output_type": "stream",
     "text": [
      "[[0.9492507]]\n"
     ]
    },
    {
     "name": "stderr",
     "output_type": "stream",
     "text": [
      "Generating mfccs:  46%|████▌     | 434/950 [00:15<00:18, 27.18file/s]"
     ]
    },
    {
     "name": "stdout",
     "output_type": "stream",
     "text": [
      "[[0.7036775]]\n"
     ]
    },
    {
     "name": "stderr",
     "output_type": "stream",
     "text": [
      "Generating mfccs:  47%|████▋     | 444/950 [00:15<00:17, 28.76file/s]"
     ]
    },
    {
     "name": "stdout",
     "output_type": "stream",
     "text": [
      "[[0.9826695]]\n",
      "[[0.98909074]]\n",
      "[[0.9960425]]\n"
     ]
    },
    {
     "name": "stderr",
     "output_type": "stream",
     "text": [
      "Generating mfccs:  47%|████▋     | 450/950 [00:15<00:20, 24.82file/s]"
     ]
    },
    {
     "name": "stdout",
     "output_type": "stream",
     "text": [
      "[[0.5428789]]\n",
      "[[0.99878305]]\n"
     ]
    },
    {
     "name": "stderr",
     "output_type": "stream",
     "text": [
      "Generating mfccs:  49%|████▊     | 461/950 [00:16<00:15, 30.84file/s]"
     ]
    },
    {
     "name": "stdout",
     "output_type": "stream",
     "text": [
      "[[0.5443204]]\n",
      "[[0.98343444]]\n",
      "[[0.9151295]]\n",
      "[[0.92241937]]\n"
     ]
    },
    {
     "name": "stderr",
     "output_type": "stream",
     "text": [
      "Generating mfccs:  49%|████▉     | 470/950 [00:16<00:13, 35.21file/s]"
     ]
    },
    {
     "name": "stdout",
     "output_type": "stream",
     "text": [
      "[[0.8062485]]\n",
      "[[0.50698954]]\n",
      "[[0.9981188]]\n"
     ]
    },
    {
     "name": "stderr",
     "output_type": "stream",
     "text": [
      "Generating mfccs:  50%|█████     | 478/950 [00:16<00:14, 31.74file/s]"
     ]
    },
    {
     "name": "stdout",
     "output_type": "stream",
     "text": [
      "[[0.73096925]]\n"
     ]
    },
    {
     "name": "stderr",
     "output_type": "stream",
     "text": [
      "Generating mfccs:  51%|█████     | 486/950 [00:17<00:16, 27.41file/s]"
     ]
    },
    {
     "name": "stdout",
     "output_type": "stream",
     "text": [
      "[[0.5683143]]\n",
      "[[0.57577825]]\n"
     ]
    },
    {
     "name": "stderr",
     "output_type": "stream",
     "text": [
      "Generating mfccs:  51%|█████▏    | 489/950 [00:17<00:17, 25.78file/s]"
     ]
    },
    {
     "name": "stdout",
     "output_type": "stream",
     "text": [
      "[[0.99270314]]\n"
     ]
    },
    {
     "name": "stderr",
     "output_type": "stream",
     "text": [
      "Generating mfccs:  52%|█████▏    | 496/950 [00:17<00:17, 26.22file/s]"
     ]
    },
    {
     "name": "stdout",
     "output_type": "stream",
     "text": [
      "[[0.9940603]]\n",
      "[[0.5545641]]\n"
     ]
    },
    {
     "name": "stderr",
     "output_type": "stream",
     "text": [
      "Generating mfccs:  54%|█████▍    | 515/950 [00:18<00:15, 28.85file/s]"
     ]
    },
    {
     "name": "stdout",
     "output_type": "stream",
     "text": [
      "[[0.76571834]]\n"
     ]
    },
    {
     "name": "stderr",
     "output_type": "stream",
     "text": [
      "Generating mfccs:  56%|█████▌    | 531/950 [00:18<00:13, 31.83file/s]"
     ]
    },
    {
     "name": "stdout",
     "output_type": "stream",
     "text": [
      "[[0.53748834]]\n"
     ]
    },
    {
     "name": "stderr",
     "output_type": "stream",
     "text": [
      "Generating mfccs:  58%|█████▊    | 547/950 [00:19<00:12, 32.31file/s]"
     ]
    },
    {
     "name": "stdout",
     "output_type": "stream",
     "text": [
      "[[0.97001535]]\n"
     ]
    },
    {
     "name": "stderr",
     "output_type": "stream",
     "text": [
      "Generating mfccs:  68%|██████▊   | 648/950 [00:22<00:09, 30.73file/s]"
     ]
    },
    {
     "name": "stdout",
     "output_type": "stream",
     "text": [
      "[[0.8899786]]\n"
     ]
    },
    {
     "name": "stderr",
     "output_type": "stream",
     "text": [
      "Generating mfccs:  70%|███████   | 665/950 [00:23<00:08, 35.43file/s]"
     ]
    },
    {
     "name": "stdout",
     "output_type": "stream",
     "text": [
      "[[0.727223]]\n",
      "[[0.89767194]]\n",
      "[[0.9890262]]\n"
     ]
    },
    {
     "name": "stderr",
     "output_type": "stream",
     "text": [
      "Generating mfccs:  73%|███████▎  | 698/950 [00:24<00:07, 32.98file/s]"
     ]
    },
    {
     "name": "stdout",
     "output_type": "stream",
     "text": [
      "[[0.8462997]]\n",
      "[[0.5243162]]\n",
      "[[0.54464376]]\n"
     ]
    },
    {
     "name": "stderr",
     "output_type": "stream",
     "text": [
      "Generating mfccs:  75%|███████▍  | 709/950 [00:24<00:09, 26.45file/s]"
     ]
    },
    {
     "name": "stdout",
     "output_type": "stream",
     "text": [
      "[[0.70925844]]\n"
     ]
    },
    {
     "name": "stderr",
     "output_type": "stream",
     "text": [
      "Generating mfccs:  80%|████████  | 761/950 [00:26<00:05, 33.76file/s]"
     ]
    },
    {
     "name": "stdout",
     "output_type": "stream",
     "text": [
      "[[0.9672671]]\n",
      "[[0.662681]]\n"
     ]
    },
    {
     "name": "stderr",
     "output_type": "stream",
     "text": [
      "Generating mfccs:  81%|████████  | 769/950 [00:26<00:05, 32.95file/s]"
     ]
    },
    {
     "name": "stdout",
     "output_type": "stream",
     "text": [
      "[[0.74626]]\n",
      "[[0.7766488]]\n",
      "[[0.6650122]]\n"
     ]
    },
    {
     "name": "stderr",
     "output_type": "stream",
     "text": [
      "Generating mfccs:  82%|████████▏ | 781/950 [00:27<00:05, 32.77file/s]"
     ]
    },
    {
     "name": "stdout",
     "output_type": "stream",
     "text": [
      "[[0.5580685]]\n",
      "[[0.8779779]]\n"
     ]
    },
    {
     "name": "stderr",
     "output_type": "stream",
     "text": [
      "Generating mfccs:  83%|████████▎ | 793/950 [00:27<00:05, 30.19file/s]"
     ]
    },
    {
     "name": "stdout",
     "output_type": "stream",
     "text": [
      "[[0.88736004]]\n",
      "[[0.90019834]]\n",
      "[[0.9889089]]\n"
     ]
    },
    {
     "name": "stderr",
     "output_type": "stream",
     "text": [
      "Generating mfccs:  85%|████████▍ | 805/950 [00:27<00:04, 29.31file/s]"
     ]
    },
    {
     "name": "stdout",
     "output_type": "stream",
     "text": [
      "[[0.7953971]]\n",
      "[[0.52679557]]\n",
      "[[0.99108636]]\n"
     ]
    },
    {
     "name": "stderr",
     "output_type": "stream",
     "text": [
      "Generating mfccs:  85%|████████▌ | 812/950 [00:28<00:04, 30.20file/s]"
     ]
    },
    {
     "name": "stdout",
     "output_type": "stream",
     "text": [
      "[[0.9225025]]\n",
      "[[0.99746877]]\n"
     ]
    },
    {
     "name": "stderr",
     "output_type": "stream",
     "text": [
      "Generating mfccs:  89%|████████▊ | 842/950 [00:29<00:03, 33.98file/s]"
     ]
    },
    {
     "name": "stdout",
     "output_type": "stream",
     "text": [
      "[[0.9959906]]\n",
      "[[0.5126575]]\n",
      "[[0.82074696]]\n",
      "[[0.5307604]]\n",
      "[[0.9331849]]\n",
      "[[0.99754864]]\n"
     ]
    },
    {
     "name": "stderr",
     "output_type": "stream",
     "text": [
      "Generating mfccs:  89%|████████▉ | 846/950 [00:29<00:03, 32.03file/s]"
     ]
    },
    {
     "name": "stdout",
     "output_type": "stream",
     "text": [
      "[[0.99424016]]\n",
      "[[0.5960591]]\n"
     ]
    },
    {
     "name": "stderr",
     "output_type": "stream",
     "text": [
      "Generating mfccs:  90%|█████████ | 855/950 [00:29<00:03, 31.53file/s]"
     ]
    },
    {
     "name": "stdout",
     "output_type": "stream",
     "text": [
      "[[0.51553386]]\n",
      "[[0.78371483]]\n",
      "[[0.9833405]]\n",
      "[[0.9960016]]\n"
     ]
    },
    {
     "name": "stderr",
     "output_type": "stream",
     "text": [
      "Generating mfccs:  91%|█████████▏| 867/950 [00:29<00:02, 32.15file/s]"
     ]
    },
    {
     "name": "stdout",
     "output_type": "stream",
     "text": [
      "[[0.93830454]]\n"
     ]
    },
    {
     "name": "stderr",
     "output_type": "stream",
     "text": [
      "Generating mfccs:  92%|█████████▏| 871/950 [00:30<00:02, 30.55file/s]"
     ]
    },
    {
     "name": "stdout",
     "output_type": "stream",
     "text": [
      "[[0.98542595]]\n",
      "[[0.79128474]]\n"
     ]
    },
    {
     "name": "stderr",
     "output_type": "stream",
     "text": [
      "Generating mfccs:  92%|█████████▏| 878/950 [00:30<00:02, 28.14file/s]"
     ]
    },
    {
     "name": "stdout",
     "output_type": "stream",
     "text": [
      "[[0.96159744]]\n",
      "[[0.9646218]]\n"
     ]
    },
    {
     "name": "stderr",
     "output_type": "stream",
     "text": [
      "Generating mfccs:  93%|█████████▎| 888/950 [00:30<00:02, 28.53file/s]"
     ]
    },
    {
     "name": "stdout",
     "output_type": "stream",
     "text": [
      "[[0.53996164]]\n",
      "[[0.95419514]]\n",
      "[[0.5249034]]\n",
      "[[0.9993182]]\n"
     ]
    },
    {
     "name": "stderr",
     "output_type": "stream",
     "text": [
      "Generating mfccs:  94%|█████████▍| 896/950 [00:30<00:01, 31.95file/s]"
     ]
    },
    {
     "name": "stdout",
     "output_type": "stream",
     "text": [
      "[[0.9598264]]\n",
      "[[0.979427]]\n"
     ]
    },
    {
     "name": "stderr",
     "output_type": "stream",
     "text": [
      "Generating mfccs:  95%|█████████▍| 900/950 [00:31<00:01, 29.91file/s]"
     ]
    },
    {
     "name": "stdout",
     "output_type": "stream",
     "text": [
      "[[0.65527475]]\n"
     ]
    },
    {
     "name": "stderr",
     "output_type": "stream",
     "text": [
      "Generating mfccs:  95%|█████████▌| 907/950 [00:31<00:01, 25.27file/s]"
     ]
    },
    {
     "name": "stdout",
     "output_type": "stream",
     "text": [
      "[[0.9908517]]\n",
      "[[0.54898304]]\n"
     ]
    },
    {
     "name": "stderr",
     "output_type": "stream",
     "text": [
      "Generating mfccs:  96%|█████████▌| 914/950 [00:31<00:01, 25.00file/s]"
     ]
    },
    {
     "name": "stdout",
     "output_type": "stream",
     "text": [
      "[[0.99842954]]\n",
      "[[0.5573275]]\n",
      "[[0.9932667]]\n"
     ]
    },
    {
     "name": "stderr",
     "output_type": "stream",
     "text": [
      "Generating mfccs:  97%|█████████▋| 923/950 [00:32<00:01, 24.60file/s]"
     ]
    },
    {
     "name": "stdout",
     "output_type": "stream",
     "text": [
      "[[0.9487508]]\n",
      "[[0.84209454]]\n"
     ]
    },
    {
     "name": "stderr",
     "output_type": "stream",
     "text": [
      "Generating mfccs:  98%|█████████▊| 930/950 [00:32<00:00, 27.93file/s]"
     ]
    },
    {
     "name": "stdout",
     "output_type": "stream",
     "text": [
      "[[0.951861]]\n",
      "[[0.85924506]]\n",
      "[[0.5992859]]\n"
     ]
    },
    {
     "name": "stderr",
     "output_type": "stream",
     "text": [
      "Generating mfccs:  99%|█████████▉| 941/950 [00:32<00:00, 28.41file/s]"
     ]
    },
    {
     "name": "stdout",
     "output_type": "stream",
     "text": [
      "[[0.590227]]\n",
      "[[0.9981739]]\n",
      "[[0.62745965]]\n",
      "[[0.7795222]]\n"
     ]
    },
    {
     "name": "stderr",
     "output_type": "stream",
     "text": [
      "Generating mfccs: 100%|█████████▉| 947/950 [00:32<00:00, 27.28file/s]"
     ]
    },
    {
     "name": "stdout",
     "output_type": "stream",
     "text": [
      "[[0.8254657]]\n",
      "[[0.79089516]]\n"
     ]
    },
    {
     "name": "stderr",
     "output_type": "stream",
     "text": [
      "Generating mfccs: 100%|██████████| 950/950 [00:32<00:00, 28.82file/s]"
     ]
    },
    {
     "name": "stdout",
     "output_type": "stream",
     "text": [
      "Mfccs generated !\n",
      "\n",
      "               id         label\n",
      "0  23168-TEST.wav  1.890966e-17\n",
      "1  23169-TEST.wav  6.534198e-01\n",
      "2  23170-TEST.wav  1.265473e-17\n",
      "3  23171-TEST.wav  9.147660e-01\n",
      "4  23172-TEST.wav  6.286409e-08\n",
      "Saving mfccs...\n",
      "Mfccs saved !\n",
      "Global shape :  (950, 2)\n",
      "                                               mfccs     label\n",
      "0  [-588.3447, 93.035866, -10.178725, -6.4212465,...  0.000000\n",
      "1  [-651.6329, 44.24694, -3.17395, 11.895294, 5.9...  0.197364\n",
      "2  [-604.2264, 85.261536, -2.3783944, 6.016036, 5...  1.000000\n",
      "3  [-636.24426, 43.96318, -3.6235545, 13.245535, ...  0.826255\n",
      "4  [-647.48926, 46.7383, -5.5491405, 5.8626995, 3...  0.000000\n"
     ]
    },
    {
     "name": "stderr",
     "output_type": "stream",
     "text": [
      "\n"
     ]
    }
   ],
   "source": [
    "def save_spectrograms_test(nb_files = len(df_test)):\n",
    "    audio_util = AudioUtil()\n",
    "    labels_predicted = np.empty(0)\n",
    "    files_with_labels = []\n",
    "    audio_mfccs = []\n",
    "    labels_files = np.empty(0)\n",
    "    features_and_labels = []\n",
    "    print(\"Starting mfccs generation...\")\n",
    "    for line_num in tqdm(range(nb_files), unit=\"file\", desc=\"Generating mfccs\"):\n",
    "        file_path = df_test.loc[line_num, \"relative_path\"]\n",
    "        file_name = file_path.split(\"/\")[-1]\n",
    "        mfccs = audio_util.extract_mfccs(file_path)\n",
    "        \n",
    "        audio_mfccs.append(mfccs)\n",
    "        labels_files = np.append(labels_files, df_test.loc[line_num, \"label\"])\n",
    "\n",
    "        single_prediction = model.predict(mfccs.reshape(1,40), verbose=0)\n",
    "        labels_predicted = np.append(labels_predicted, single_prediction[0][0])\n",
    "        features_and_labels.append((mfccs, df_test.loc[line_num, \"label\"]))\n",
    "\n",
    "        files_with_labels.append([file_name, labels_predicted[-1]])\n",
    "    print(\"Mfccs generated !\", end='\\n\\n')\n",
    "    \n",
    "    files_with_labels = pd.DataFrame(files_with_labels, columns=[\"id\", \"label\"])\n",
    "    print(files_with_labels.head())\n",
    "    \n",
    "    # Save the csv file with the predictions\n",
    "    files_with_labels.to_csv(\"Y_test_predictions.csv\", index=False)\n",
    "\n",
    "    print(\"Saving mfccs...\")\n",
    "    os.mkdir(\"numpy_data\") if not os.path.exists(\"numpy_data\") else None\n",
    "    np.save(os.path.join(\"numpy_data\", \"test_audio_mfccs.npy\"), audio_mfccs)\n",
    "    np.save(os.path.join(\"numpy_data\", \"test_label_files.npy\"), labels_files)\n",
    "    print(\"Mfccs saved !\")\n",
    "    \n",
    "    features_and_labels = pd.DataFrame(features_and_labels, columns=[\"mfccs\", \"label\"])\n",
    "\n",
    "    print(\"Global shape : \", features_and_labels.shape)\n",
    "    print(features_and_labels.head())\n",
    "\n",
    "save_spectrograms_test()"
   ]
  },
  {
   "cell_type": "code",
   "execution_count": null,
   "metadata": {},
   "outputs": [],
   "source": []
  },
  {
   "cell_type": "code",
   "execution_count": 60,
   "metadata": {},
   "outputs": [
    {
     "name": "stderr",
     "output_type": "stream",
     "text": [
      "Predicting labels:   0%|          | 0/950 [00:00<?, ?file/s]/Users/tristangclvs/Documents/ENSC/3A/S9/Spé IA/projet/spe_IA_clics_odontocetes/.venv/lib/python3.11/site-packages/librosa/feature/spectral.py:2143: UserWarning: Empty filters detected in mel frequency basis. Some channels will produce empty responses. Try increasing your sampling rate (and fmax) or reducing n_mels.\n",
      "  mel_basis = filters.mel(sr=sr, n_fft=n_fft, **kwargs)\n",
      "Predicting labels: 100%|██████████| 950/950 [01:52<00:00,  8.45file/s]\n"
     ]
    }
   ],
   "source": [
    "# Init the AudioUtil class\n",
    "test_audio_util = AudioUtil()\n",
    "predictions = []\n",
    "\n",
    "for line_num in tqdm(range(len(df_test)), unit=\"file\", desc=\"Predicting labels\"):\n",
    "    test_audio_file = df_test.loc[line_num, \"relative_path\"]\n",
    "    test_mfccs = test_audio_util.extract_mfccs(test_audio_file)\n",
    "    \n",
    "\n",
    "    # Load the trained model\n",
    "    model = tf.keras.models.load_model(\"models/model_v1.h5\")\n",
    "\n",
    "    # Predict the label of the audio file\n",
    "    prediction = model.predict(test_mfccs.reshape(1,40), verbose=0);\n",
    "\n",
    "    # Print the predicted label\n",
    "    if prediction > 0.5:\n",
    "        predictions.append([df_test.loc[line_num, \"relative_path\"].split(sep='/')[-1], 1])\n",
    "    else:\n",
    "        predictions.append([df_test.loc[line_num, \"relative_path\"].split(sep='/')[-1], 0])\n",
    "\n"
   ]
  },
  {
   "cell_type": "code",
   "execution_count": 61,
   "metadata": {},
   "outputs": [
    {
     "name": "stdout",
     "output_type": "stream",
     "text": [
      "['23414-TEST.wav', 1] 0\n",
      "['23425-TEST.wav', 1] 1\n",
      "['23432-TEST.wav', 1] 2\n",
      "['23434-TEST.wav', 1] 3\n",
      "['23436-TEST.wav', 1] 4\n",
      "['23439-TEST.wav', 1] 5\n",
      "['23441-TEST.wav', 1] 6\n",
      "['23442-TEST.wav', 1] 7\n",
      "['23443-TEST.wav', 1] 8\n",
      "['23444-TEST.wav', 1] 9\n",
      "['23446-TEST.wav', 1] 10\n",
      "['23448-TEST.wav', 1] 11\n",
      "['23452-TEST.wav', 1] 12\n",
      "['23465-TEST.wav', 1] 13\n",
      "['23466-TEST.wav', 1] 14\n",
      "['23469-TEST.wav', 1] 15\n",
      "['23477-TEST.wav', 1] 16\n",
      "['23479-TEST.wav', 1] 17\n",
      "['23481-TEST.wav', 1] 18\n",
      "['23485-TEST.wav', 1] 19\n",
      "['23486-TEST.wav', 1] 20\n",
      "['23488-TEST.wav', 1] 21\n",
      "['23491-TEST.wav', 1] 22\n",
      "['23493-TEST.wav', 1] 23\n",
      "['23494-TEST.wav', 1] 24\n",
      "['23495-TEST.wav', 1] 25\n",
      "['23496-TEST.wav', 1] 26\n",
      "['23498-TEST.wav', 1] 27\n",
      "['23500-TEST.wav', 1] 28\n",
      "['23502-TEST.wav', 1] 29\n",
      "['23503-TEST.wav', 1] 30\n",
      "['23505-TEST.wav', 1] 31\n",
      "['23507-TEST.wav', 1] 32\n",
      "['23510-TEST.wav', 1] 33\n",
      "['23513-TEST.wav', 1] 34\n",
      "['23514-TEST.wav', 1] 35\n",
      "['23517-TEST.wav', 1] 36\n",
      "['23518-TEST.wav', 1] 37\n",
      "['23521-TEST.wav', 1] 38\n",
      "['23528-TEST.wav', 1] 39\n",
      "['23529-TEST.wav', 1] 40\n",
      "['23532-TEST.wav', 1] 41\n",
      "['23534-TEST.wav', 1] 42\n",
      "['23539-TEST.wav', 1] 43\n",
      "['23541-TEST.wav', 1] 44\n",
      "['23547-TEST.wav', 1] 45\n",
      "['23551-TEST.wav', 1] 46\n",
      "['23554-TEST.wav', 1] 47\n",
      "['23562-TEST.wav', 1] 48\n",
      "['23567-TEST.wav', 1] 49\n",
      "['23568-TEST.wav', 1] 50\n",
      "['23571-TEST.wav', 1] 51\n",
      "['23573-TEST.wav', 1] 52\n",
      "['23576-TEST.wav', 1] 53\n",
      "['23580-TEST.wav', 1] 54\n",
      "['23581-TEST.wav', 1] 55\n",
      "['23583-TEST.wav', 1] 56\n",
      "['23591-TEST.wav', 1] 57\n",
      "['23598-TEST.wav', 1] 58\n",
      "['23605-TEST.wav', 1] 59\n",
      "['23610-TEST.wav', 1] 60\n",
      "['23612-TEST.wav', 1] 61\n",
      "['23613-TEST.wav', 1] 62\n",
      "['23617-TEST.wav', 1] 63\n",
      "['23625-TEST.wav', 1] 64\n",
      "['23626-TEST.wav', 1] 65\n",
      "['23627-TEST.wav', 1] 66\n",
      "['23629-TEST.wav', 1] 67\n",
      "['23630-TEST.wav', 1] 68\n",
      "['23631-TEST.wav', 1] 69\n",
      "['23632-TEST.wav', 1] 70\n",
      "['23633-TEST.wav', 1] 71\n",
      "['23634-TEST.wav', 1] 72\n",
      "['23639-TEST.wav', 1] 73\n",
      "['23643-TEST.wav', 1] 74\n",
      "['23644-TEST.wav', 1] 75\n",
      "['23645-TEST.wav', 1] 76\n",
      "['23649-TEST.wav', 1] 77\n",
      "['23650-TEST.wav', 1] 78\n",
      "['23651-TEST.wav', 1] 79\n",
      "['23653-TEST.wav', 1] 80\n",
      "['23654-TEST.wav', 1] 81\n",
      "['23659-TEST.wav', 1] 82\n",
      "['23661-TEST.wav', 1] 83\n",
      "['23919-TEST.wav', 1] 84\n",
      "['23921-TEST.wav', 1] 85\n",
      "['23924-TEST.wav', 1] 86\n",
      "['23925-TEST.wav', 1] 87\n",
      "['23927-TEST.wav', 1] 88\n",
      "['23930-TEST.wav', 1] 89\n",
      "['23937-TEST.wav', 1] 90\n",
      "['23938-TEST.wav', 1] 91\n",
      "['23943-TEST.wav', 1] 92\n",
      "['23951-TEST.wav', 1] 93\n",
      "['23956-TEST.wav', 1] 94\n",
      "['23958-TEST.wav', 1] 95\n",
      "['23962-TEST.wav', 1] 96\n",
      "['23963-TEST.wav', 1] 97\n",
      "['23966-TEST.wav', 1] 98\n",
      "['23970-TEST.wav', 1] 99\n",
      "['23973-TEST.wav', 1] 100\n",
      "['23976-TEST.wav', 1] 101\n",
      "['23977-TEST.wav', 1] 102\n",
      "['23980-TEST.wav', 1] 103\n",
      "['23981-TEST.wav', 1] 104\n",
      "['23985-TEST.wav', 1] 105\n",
      "['23996-TEST.wav', 1] 106\n",
      "['24005-TEST.wav', 1] 107\n",
      "['24006-TEST.wav', 1] 108\n",
      "['24007-TEST.wav', 1] 109\n",
      "['24014-TEST.wav', 1] 110\n",
      "['24017-TEST.wav', 1] 111\n",
      "['24018-TEST.wav', 1] 112\n",
      "['24023-TEST.wav', 1] 113\n",
      "['24027-TEST.wav', 1] 114\n",
      "['24028-TEST.wav', 1] 115\n",
      "['24031-TEST.wav', 1] 116\n",
      "['24032-TEST.wav', 1] 117\n",
      "['24033-TEST.wav', 1] 118\n",
      "['24037-TEST.wav', 1] 119\n",
      "['24038-TEST.wav', 1] 120\n",
      "['24044-TEST.wav', 1] 121\n",
      "['24053-TEST.wav', 1] 122\n",
      "['24057-TEST.wav', 1] 123\n",
      "['24062-TEST.wav', 1] 124\n",
      "['24064-TEST.wav', 1] 125\n",
      "['24067-TEST.wav', 1] 126\n",
      "['24069-TEST.wav', 1] 127\n",
      "['24077-TEST.wav', 1] 128\n",
      "['24081-TEST.wav', 1] 129\n",
      "['24084-TEST.wav', 1] 130\n",
      "['24085-TEST.wav', 1] 131\n",
      "['24089-TEST.wav', 1] 132\n",
      "['24097-TEST.wav', 1] 133\n",
      "['24099-TEST.wav', 1] 134\n",
      "['24100-TEST.wav', 1] 135\n",
      "['24103-TEST.wav', 1] 136\n",
      "['24105-TEST.wav', 1] 137\n",
      "['24108-TEST.wav', 1] 138\n",
      "['24109-TEST.wav', 1] 139\n",
      "['24112-TEST.wav', 1] 140\n",
      "['24113-TEST.wav', 1] 141\n",
      "['24117-TEST.wav', 1] 142\n"
     ]
    }
   ],
   "source": [
    "i=0\n",
    "for prediction in predictions:\n",
    "    if prediction[1] == 1:\n",
    "        print(prediction, i)\n",
    "        i+=1  "
   ]
  },
  {
   "cell_type": "code",
   "execution_count": 62,
   "metadata": {},
   "outputs": [
    {
     "name": "stdout",
     "output_type": "stream",
     "text": [
      "30/30 [==============================] - 0s 423us/step\n",
      "0.5050414986536782\n"
     ]
    }
   ],
   "source": [
    "# Check the ROC AUC score with sklearn\n",
    "from sklearn.metrics import roc_auc_score\n",
    "X_testing = get_spectrograms_from_file(os.path.join(os.getcwd(),\"numpy_data\", \"test_audio_mfccs.npy\"))\n",
    "y_testing = np.round(np.load(os.path.join(os.getcwd(),\"numpy_data\", \"test_label_files.npy\")))\n",
    "y_pred_keras = model.predict(X_testing).ravel()\n",
    "# print(y_pred_keras)\n",
    "# print(y_testing)\n",
    "print(roc_auc_score(y_testing, np.round(y_pred_keras)))"
   ]
  },
  {
   "cell_type": "code",
   "execution_count": null,
   "metadata": {},
   "outputs": [],
   "source": []
  },
  {
   "cell_type": "code",
   "execution_count": null,
   "metadata": {},
   "outputs": [],
   "source": []
  }
 ],
 "metadata": {
  "kernelspec": {
   "display_name": ".venv",
   "language": "python",
   "name": "python3"
  },
  "language_info": {
   "codemirror_mode": {
    "name": "ipython",
    "version": 3
   },
   "file_extension": ".py",
   "mimetype": "text/x-python",
   "name": "python",
   "nbconvert_exporter": "python",
   "pygments_lexer": "ipython3",
   "version": "3.11.5"
  }
 },
 "nbformat": 4,
 "nbformat_minor": 2
}
