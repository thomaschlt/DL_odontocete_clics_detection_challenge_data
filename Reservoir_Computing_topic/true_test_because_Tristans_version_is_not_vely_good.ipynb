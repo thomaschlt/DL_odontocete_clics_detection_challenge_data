{
 "cells": [
  {
   "cell_type": "code",
   "execution_count": 5,
   "metadata": {},
   "outputs": [],
   "source": [
    "from reservoirpy.datasets import mackey_glass\n",
    "from reservoirpy.observables import rmse, rsquare\n",
    "from reservoirpy.nodes import Reservoir, Ridge\n",
    "from pathlib import Path\n",
    "import pandas as pd\n",
    "import numpy as np\n",
    "import matplotlib.pyplot as plt\n",
    "import seaborn as sns\n",
    "import librosa\n",
    "from scipy import signal\n",
    "from tqdm import tqdm\n",
    "from reservoirpy.nodes import Reservoir, Ridge, FORCE, ESN"
   ]
  },
  {
   "cell_type": "code",
   "execution_count": 7,
   "metadata": {},
   "outputs": [],
   "source": [
    "def load_and_preprocess_data(file_paths, target_length): \n",
    "    data = []\n",
    "    for file_path in tqdm(file_paths, desc=\"Loading and preprocessing data\", unit=\"file\"):\n",
    "        audio, sr = librosa.load(file_path, sr=None)\n",
    "        if len(audio) < target_length:\n",
    "            audio = np.pad(audio, (0, target_length - len(audio)))\n",
    "        else: \n",
    "            audio = audio[:target_length]\n",
    "\n",
    "        audio = bandpass_filter(audio, sr)\n",
    "\n",
    "        data.append(audio)\n",
    "\n",
    "    print(\"Done\")\n",
    "    return np.array(data)\n",
    "\n",
    "def bandpass_filter(audio, sr):\n",
    "    sos = signal.butter(6, [5000, 100000], 'bandpass', fs=sr, output='sos')\n",
    "    audio = signal.sosfiltfilt(sos, audio)\n",
    "    return audio"
   ]
  },
  {
   "cell_type": "code",
   "execution_count": 9,
   "metadata": {},
   "outputs": [
    {
     "name": "stdout",
     "output_type": "stream",
     "text": [
      "/Users/thomas/spé-IA/spe_ia_clics_odontocetes\n"
     ]
    }
   ],
   "source": [
    "#! ===== Set parameters ======\n",
    "grandparent_dir = Path.cwd().parents[0]\n",
    "print(grandparent_dir)\n",
    "test_directory = grandparent_dir / \".dataset\" / \"X_test\"\n",
    "train_directory = grandparent_dir / \".dataset\" / \"X_train\"\n",
    "\n",
    "# Set the path to the downloaded data\n",
    "download_path = grandparent_dir / \".dataset\"\n",
    "\n",
    "# Audio parameters\n",
    "sample_rate = 256000\n",
    "audio_duration_seconds = 0.2 "
   ]
  },
  {
   "cell_type": "code",
   "execution_count": 10,
   "metadata": {},
   "outputs": [
    {
     "name": "stdout",
     "output_type": "stream",
     "text": [
      "### There are 23168 audio files in the dataset.\n",
      "\n",
      "Here is the split into good and bad signals:\n",
      "| Label   | Count   |\n",
      "|:-------:|:-------:|\n",
      "| 0       |   13718 |\n",
      "| 1       |    9450 |\n",
      "\n",
      "### Here is a sample of the data:\n",
      "                                           relative_path  label\n",
      "3863   /Users/thomas/spé-IA/spe_ia_clics_odontocetes/...    0.0\n",
      "18004  /Users/thomas/spé-IA/spe_ia_clics_odontocetes/...    0.0\n",
      "3316   /Users/thomas/spé-IA/spe_ia_clics_odontocetes/...    0.0\n",
      "18978  /Users/thomas/spé-IA/spe_ia_clics_odontocetes/...    0.0\n",
      "2446   /Users/thomas/spé-IA/spe_ia_clics_odontocetes/...    0.0\n"
     ]
    }
   ],
   "source": [
    "#! ====== Load and preprocess data ====== \n",
    "# Read labels file\n",
    "labels_file = download_path / \"Y_train_ofTdMHi.csv\"\n",
    "df = pd.read_csv(labels_file)\n",
    "\n",
    "# Construct file path by concatenating folder and file name\n",
    "df[\"relative_path\"] = Path(download_path) / \"X_train\" / df[\"id\"]\n",
    "# df[\"relative_path\"] = str(download_path) + \"/X_train/\" + df[\"id\"]\n",
    "\n",
    "# Drop id column (replaced it with relative_path)\n",
    "df.drop(columns=[\"id\"], inplace=True)\n",
    "\n",
    "df.rename(columns={\"pos_label\": \"label\"}, inplace=True)\n",
    "\n",
    "# invert relative_path and label columns positions\n",
    "df = df[[\"relative_path\", \"label\"]]\n",
    "print(f\"### There are {len(df)} audio files in the dataset.\")\n",
    "\n",
    "table = f\"\"\"\n",
    "Here is the split into good and bad signals:\n",
    "| Label   | Count   |\n",
    "|:-------:|:-------:|\n",
    "| 0       | {df['label'].value_counts()[0]:7} |\n",
    "| 1       | {df['label'].value_counts()[1]:7} |\"\"\"\n",
    "print(table, end=\"\\n\\n\")\n",
    "print(\"### Here is a sample of the data:\")\n",
    "print(df.sample(5))\n"
   ]
  },
  {
   "cell_type": "code",
   "execution_count": 8,
   "metadata": {},
   "outputs": [
    {
     "name": "stderr",
     "output_type": "stream",
     "text": [
      "Loading and preprocessing data:   0%|          | 0/23168 [00:00<?, ?file/s]"
     ]
    },
    {
     "name": "stderr",
     "output_type": "stream",
     "text": [
      "Loading and preprocessing data: 100%|██████████| 23168/23168 [01:17<00:00, 297.51file/s]\n"
     ]
    },
    {
     "name": "stdout",
     "output_type": "stream",
     "text": [
      "Done\n"
     ]
    },
    {
     "name": "stderr",
     "output_type": "stream",
     "text": [
      "Running Reservoir-0: 100%|██████████| 23168/23168 [00:34<00:00, 677.34it/s] \n"
     ]
    }
   ],
   "source": [
    "target_length = int(sample_rate * audio_duration_seconds)\n",
    "X = load_and_preprocess_data(df[\"relative_path\"], target_length)\n",
    "\n",
    "y = df[\"label\"].values.astype(int)\n",
    "\n",
    "reservoir = Reservoir(100, lr=0.5, sr=0.9)\n",
    "\n",
    "\n",
    "states = reservoir.run(X)"
   ]
  },
  {
   "cell_type": "code",
   "execution_count": 13,
   "metadata": {},
   "outputs": [
    {
     "name": "stdout",
     "output_type": "stream",
     "text": [
      "(23168, 51200)\n",
      "(51200,)\n"
     ]
    }
   ],
   "source": [
    "print(X.shape)\n",
    "print(X[0].shape)"
   ]
  },
  {
   "cell_type": "code",
   "execution_count": null,
   "metadata": {},
   "outputs": [],
   "source": []
  },
  {
   "cell_type": "code",
   "execution_count": 9,
   "metadata": {},
   "outputs": [
    {
     "name": "stdout",
     "output_type": "stream",
     "text": [
      "(23168, 100)\n"
     ]
    }
   ],
   "source": [
    "print(states.shape)"
   ]
  },
  {
   "cell_type": "code",
   "execution_count": 14,
   "metadata": {},
   "outputs": [],
   "source": [
    "# train test split\n",
    "from sklearn.model_selection import train_test_split\n",
    "X_train, X_test, y_train, y_test = train_test_split(X, y, test_size=0.2, random_state=42)"
   ]
  },
  {
   "cell_type": "code",
   "execution_count": 15,
   "metadata": {},
   "outputs": [
    {
     "name": "stderr",
     "output_type": "stream",
     "text": [
      "Running Reservoir-0: 100%|██████████| 18534/18534 [00:40<00:00, 460.86it/s]\n"
     ]
    }
   ],
   "source": [
    "readout = Ridge(ridge=1e-7)\n",
    "train_states = reservoir.run(X_train, reset=True)"
   ]
  },
  {
   "cell_type": "code",
   "execution_count": 41,
   "metadata": {},
   "outputs": [
    {
     "ename": "ValueError",
     "evalue": "shapes (18534,0) and (18524,101) not aligned: 0 (dim 1) != 18524 (dim 0)",
     "output_type": "error",
     "traceback": [
      "\u001b[0;31m---------------------------------------------------------------------------\u001b[0m",
      "\u001b[0;31mValueError\u001b[0m                                Traceback (most recent call last)",
      "Cell \u001b[0;32mIn[41], line 1\u001b[0m\n\u001b[0;32m----> 1\u001b[0m readout \u001b[38;5;241m=\u001b[39m \u001b[43mreadout\u001b[49m\u001b[38;5;241;43m.\u001b[39;49m\u001b[43mfit\u001b[49m\u001b[43m(\u001b[49m\u001b[43mtrain_states\u001b[49m\u001b[43m,\u001b[49m\u001b[43m \u001b[49m\u001b[43my_train\u001b[49m\u001b[43m,\u001b[49m\u001b[43m \u001b[49m\u001b[43mwarmup\u001b[49m\u001b[38;5;241;43m=\u001b[39;49m\u001b[38;5;241;43m10\u001b[39;49m\u001b[43m)\u001b[49m\n",
      "File \u001b[0;32m~/spé-IA/spe_ia_clics_odontocetes/.env_macos/lib/python3.11/site-packages/reservoirpy/node.py:1144\u001b[0m, in \u001b[0;36mNode.fit\u001b[0;34m(self, X, Y, warmup)\u001b[0m\n\u001b[1;32m   1142\u001b[0m \u001b[38;5;28;01mif\u001b[39;00m X \u001b[38;5;129;01mis\u001b[39;00m \u001b[38;5;129;01mnot\u001b[39;00m \u001b[38;5;28;01mNone\u001b[39;00m:\n\u001b[1;32m   1143\u001b[0m     \u001b[38;5;28;01mif\u001b[39;00m \u001b[38;5;28mself\u001b[39m\u001b[38;5;241m.\u001b[39m_partial_backward \u001b[38;5;129;01mis\u001b[39;00m \u001b[38;5;129;01mnot\u001b[39;00m \u001b[38;5;28;01mNone\u001b[39;00m:\n\u001b[0;32m-> 1144\u001b[0m         \u001b[38;5;28;43mself\u001b[39;49m\u001b[38;5;241;43m.\u001b[39;49m\u001b[43mpartial_fit\u001b[49m\u001b[43m(\u001b[49m\u001b[43mX\u001b[49m\u001b[43m,\u001b[49m\u001b[43m \u001b[49m\u001b[43mY\u001b[49m\u001b[43m,\u001b[49m\u001b[43m \u001b[49m\u001b[43mwarmup\u001b[49m\u001b[38;5;241;43m=\u001b[39;49m\u001b[43mwarmup\u001b[49m\u001b[43m)\u001b[49m\n\u001b[1;32m   1146\u001b[0m \u001b[38;5;28;01melif\u001b[39;00m \u001b[38;5;129;01mnot\u001b[39;00m \u001b[38;5;28mself\u001b[39m\u001b[38;5;241m.\u001b[39m_is_initialized:\n\u001b[1;32m   1147\u001b[0m     \u001b[38;5;28;01mraise\u001b[39;00m \u001b[38;5;167;01mRuntimeError\u001b[39;00m(\n\u001b[1;32m   1148\u001b[0m         \u001b[38;5;124mf\u001b[39m\u001b[38;5;124m\"\u001b[39m\u001b[38;5;124mImpossible to fit node \u001b[39m\u001b[38;5;132;01m{\u001b[39;00m\u001b[38;5;28mself\u001b[39m\u001b[38;5;241m.\u001b[39mname\u001b[38;5;132;01m}\u001b[39;00m\u001b[38;5;124m: node\u001b[39m\u001b[38;5;124m\"\u001b[39m\n\u001b[1;32m   1149\u001b[0m         \u001b[38;5;124mf\u001b[39m\u001b[38;5;124m\"\u001b[39m\u001b[38;5;124mis not initialized, and fit was called \u001b[39m\u001b[38;5;124m\"\u001b[39m\n\u001b[1;32m   1150\u001b[0m         \u001b[38;5;124mf\u001b[39m\u001b[38;5;124m\"\u001b[39m\u001b[38;5;124mwithout input and teacher data.\u001b[39m\u001b[38;5;124m\"\u001b[39m\n\u001b[1;32m   1151\u001b[0m     )\n",
      "File \u001b[0;32m~/spé-IA/spe_ia_clics_odontocetes/.env_macos/lib/python3.11/site-packages/reservoirpy/node.py:1105\u001b[0m, in \u001b[0;36mNode.partial_fit\u001b[0;34m(self, X_batch, Y_batch, warmup, **kwargs)\u001b[0m\n\u001b[1;32m   1099\u001b[0m     \u001b[38;5;28;01mraise\u001b[39;00m \u001b[38;5;167;01mValueError\u001b[39;00m(\n\u001b[1;32m   1100\u001b[0m         \u001b[38;5;124mf\u001b[39m\u001b[38;5;124m\"\u001b[39m\u001b[38;5;124mWarmup set to \u001b[39m\u001b[38;5;132;01m{\u001b[39;00mwarmup\u001b[38;5;132;01m}\u001b[39;00m\u001b[38;5;124m timesteps, but one timeseries is only \u001b[39m\u001b[38;5;124m\"\u001b[39m\n\u001b[1;32m   1101\u001b[0m         \u001b[38;5;124mf\u001b[39m\u001b[38;5;124m\"\u001b[39m\u001b[38;5;132;01m{\u001b[39;00mX_seq\u001b[38;5;241m.\u001b[39mshape[\u001b[38;5;241m0\u001b[39m]\u001b[38;5;132;01m}\u001b[39;00m\u001b[38;5;124m long.\u001b[39m\u001b[38;5;124m\"\u001b[39m\n\u001b[1;32m   1102\u001b[0m     )\n\u001b[1;32m   1104\u001b[0m \u001b[38;5;28;01mif\u001b[39;00m Y_seq \u001b[38;5;129;01mis\u001b[39;00m \u001b[38;5;129;01mnot\u001b[39;00m \u001b[38;5;28;01mNone\u001b[39;00m:\n\u001b[0;32m-> 1105\u001b[0m     \u001b[38;5;28;43mself\u001b[39;49m\u001b[38;5;241;43m.\u001b[39;49m\u001b[43m_partial_backward\u001b[49m\u001b[43m(\u001b[49m\u001b[38;5;28;43mself\u001b[39;49m\u001b[43m,\u001b[49m\u001b[43m \u001b[49m\u001b[43mX_seq\u001b[49m\u001b[43m[\u001b[49m\u001b[43mwarmup\u001b[49m\u001b[43m:\u001b[49m\u001b[43m]\u001b[49m\u001b[43m,\u001b[49m\u001b[43m \u001b[49m\u001b[43mY_seq\u001b[49m\u001b[43m[\u001b[49m\u001b[43mwarmup\u001b[49m\u001b[43m:\u001b[49m\u001b[43m]\u001b[49m\u001b[43m,\u001b[49m\u001b[43m \u001b[49m\u001b[38;5;241;43m*\u001b[39;49m\u001b[38;5;241;43m*\u001b[39;49m\u001b[43mkwargs\u001b[49m\u001b[43m)\u001b[49m\n\u001b[1;32m   1106\u001b[0m \u001b[38;5;28;01melse\u001b[39;00m:\n\u001b[1;32m   1107\u001b[0m     \u001b[38;5;28mself\u001b[39m\u001b[38;5;241m.\u001b[39m_partial_backward(\u001b[38;5;28mself\u001b[39m, X_seq[warmup:], \u001b[38;5;241m*\u001b[39m\u001b[38;5;241m*\u001b[39mkwargs)\n",
      "File \u001b[0;32m~/spé-IA/spe_ia_clics_odontocetes/.env_macos/lib/python3.11/site-packages/reservoirpy/nodes/readouts/ridge.py:38\u001b[0m, in \u001b[0;36mpartial_backward\u001b[0;34m(readout, X_batch, Y_batch, lock)\u001b[0m\n\u001b[1;32m     30\u001b[0m X, Y \u001b[38;5;241m=\u001b[39m _prepare_inputs_for_learning(\n\u001b[1;32m     31\u001b[0m     X_batch,\n\u001b[1;32m     32\u001b[0m     Y_batch,\n\u001b[1;32m     33\u001b[0m     bias\u001b[38;5;241m=\u001b[39mreadout\u001b[38;5;241m.\u001b[39minput_bias,\n\u001b[1;32m     34\u001b[0m     allow_reshape\u001b[38;5;241m=\u001b[39m\u001b[38;5;28;01mTrue\u001b[39;00m,\n\u001b[1;32m     35\u001b[0m )\n\u001b[1;32m     37\u001b[0m xxt \u001b[38;5;241m=\u001b[39m X\u001b[38;5;241m.\u001b[39mT\u001b[38;5;241m.\u001b[39mdot(X)\n\u001b[0;32m---> 38\u001b[0m yxt \u001b[38;5;241m=\u001b[39m \u001b[43mY\u001b[49m\u001b[38;5;241;43m.\u001b[39;49m\u001b[43mT\u001b[49m\u001b[38;5;241;43m.\u001b[39;49m\u001b[43mdot\u001b[49m\u001b[43m(\u001b[49m\u001b[43mX\u001b[49m\u001b[43m)\u001b[49m\n\u001b[1;32m     40\u001b[0m \u001b[38;5;28;01mif\u001b[39;00m lock \u001b[38;5;129;01mis\u001b[39;00m \u001b[38;5;129;01mnot\u001b[39;00m \u001b[38;5;28;01mNone\u001b[39;00m:\n\u001b[1;32m     41\u001b[0m     \u001b[38;5;66;03m# This is not thread-safe using Numpy memmap as buffers\u001b[39;00m\n\u001b[1;32m     42\u001b[0m     \u001b[38;5;66;03m# ok for parallelization then with a lock (see ESN object)\u001b[39;00m\n\u001b[1;32m     43\u001b[0m     \u001b[38;5;28;01mwith\u001b[39;00m lock:\n",
      "\u001b[0;31mValueError\u001b[0m: shapes (18534,0) and (18524,101) not aligned: 0 (dim 1) != 18524 (dim 0)"
     ]
    }
   ],
   "source": [
    "readout = readout.fit(train_states, y_train, warmup=10)"
   ]
  }
 ],
 "metadata": {
  "kernelspec": {
   "display_name": ".env_macos",
   "language": "python",
   "name": "python3"
  },
  "language_info": {
   "codemirror_mode": {
    "name": "ipython",
    "version": 3
   },
   "file_extension": ".py",
   "mimetype": "text/x-python",
   "name": "python",
   "nbconvert_exporter": "python",
   "pygments_lexer": "ipython3",
   "version": "3.11.1"
  }
 },
 "nbformat": 4,
 "nbformat_minor": 2
}
