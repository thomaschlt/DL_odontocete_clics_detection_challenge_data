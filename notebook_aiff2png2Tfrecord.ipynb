{
 "cells": [
  {
   "cell_type": "code",
   "execution_count": 1,
   "metadata": {},
   "outputs": [],
   "source": [
    "import glob\n",
    "import io\n",
    "import librosa\n",
    "from pathlib import Path\n",
    "import matplotlib.pyplot as plt\n",
    "import numpy as np \n",
    "import os\n",
    "import pandas as pd\n",
    "import IPython.display as ipd\n",
    "import seaborn as sns \n",
    "import soundfile as sf\n",
    "import zipfile\n",
    "import tensorflow as tf\n",
    "import tensorflow.keras.backend as K\n",
    "from tensorflow.keras.callbacks import EarlyStopping\n",
    "import efficientnet.tfkeras as efn\n",
    "from tqdm import tqdm"
   ]
  },
  {
   "cell_type": "code",
   "execution_count": 2,
   "metadata": {},
   "outputs": [
    {
     "data": {
      "text/markdown": [
       "### There are **_23168_** audio files in the dataset."
      ],
      "text/plain": [
       "<IPython.core.display.Markdown object>"
      ]
     },
     "metadata": {},
     "output_type": "display_data"
    },
    {
     "data": {
      "text/markdown": [
       "\n",
       "Here is the split into good and bad signals:\n",
       "| Label   | Count   |\n",
       "|:-------:|:-------:|\n",
       "| 0       | 13718 |\n",
       "| 1       | 9450 |"
      ],
      "text/plain": [
       "<IPython.core.display.Markdown object>"
      ]
     },
     "metadata": {},
     "output_type": "display_data"
    },
    {
     "data": {
      "text/html": [
       "<div>\n",
       "<style scoped>\n",
       "    .dataframe tbody tr th:only-of-type {\n",
       "        vertical-align: middle;\n",
       "    }\n",
       "\n",
       "    .dataframe tbody tr th {\n",
       "        vertical-align: top;\n",
       "    }\n",
       "\n",
       "    .dataframe thead th {\n",
       "        text-align: right;\n",
       "    }\n",
       "</style>\n",
       "<table border=\"1\" class=\"dataframe\">\n",
       "  <thead>\n",
       "    <tr style=\"text-align: right;\">\n",
       "      <th></th>\n",
       "      <th>relative_path</th>\n",
       "      <th>label</th>\n",
       "    </tr>\n",
       "  </thead>\n",
       "  <tbody>\n",
       "    <tr>\n",
       "      <th>0</th>\n",
       "      <td>/Users/thomas/spé-IA/spe_ia_clics_odontocetes/...</td>\n",
       "      <td>0.0</td>\n",
       "    </tr>\n",
       "    <tr>\n",
       "      <th>1</th>\n",
       "      <td>/Users/thomas/spé-IA/spe_ia_clics_odontocetes/...</td>\n",
       "      <td>1.0</td>\n",
       "    </tr>\n",
       "    <tr>\n",
       "      <th>2</th>\n",
       "      <td>/Users/thomas/spé-IA/spe_ia_clics_odontocetes/...</td>\n",
       "      <td>1.0</td>\n",
       "    </tr>\n",
       "    <tr>\n",
       "      <th>3</th>\n",
       "      <td>/Users/thomas/spé-IA/spe_ia_clics_odontocetes/...</td>\n",
       "      <td>1.0</td>\n",
       "    </tr>\n",
       "    <tr>\n",
       "      <th>4</th>\n",
       "      <td>/Users/thomas/spé-IA/spe_ia_clics_odontocetes/...</td>\n",
       "      <td>1.0</td>\n",
       "    </tr>\n",
       "  </tbody>\n",
       "</table>\n",
       "</div>"
      ],
      "text/plain": [
       "                                       relative_path  label\n",
       "0  /Users/thomas/spé-IA/spe_ia_clics_odontocetes/...    0.0\n",
       "1  /Users/thomas/spé-IA/spe_ia_clics_odontocetes/...    1.0\n",
       "2  /Users/thomas/spé-IA/spe_ia_clics_odontocetes/...    1.0\n",
       "3  /Users/thomas/spé-IA/spe_ia_clics_odontocetes/...    1.0\n",
       "4  /Users/thomas/spé-IA/spe_ia_clics_odontocetes/...    1.0"
      ]
     },
     "execution_count": 2,
     "metadata": {},
     "output_type": "execute_result"
    }
   ],
   "source": [
    "output_path = '/Users/thomas/spé-IA/spe_ia_clics_odontocetes/.results/'\n",
    "\n",
    "if not os.path.exists(output_path):\n",
    "    os.makedirs(output_path)\n",
    "    \n",
    "# Set the path to the downloaded data\n",
    "download_path = Path.cwd() / \".dataset\"\n",
    "\n",
    "# Read labels file\n",
    "labels_file = download_path / \"Y_train_ofTdMHi.csv\"\n",
    "df = pd.read_csv(labels_file)\n",
    "\n",
    "# Construct file path by concatenating folder and file name\n",
    "df[\"relative_path\"] = str(download_path) + \"/X_train/\" + df[\"id\"]\n",
    "\n",
    "# Drop id column (replaced it with relative_path)\n",
    "df.drop(columns=[\"id\"], inplace=True)\n",
    "\n",
    "df.rename(columns={\"pos_label\": \"label\"}, inplace=True)\n",
    "\n",
    "# invert relative_path and label columns positions\n",
    "df = df[[\"relative_path\", \"label\"]]\n",
    "display(ipd.Markdown(f\"### There are **_{len(df)}_** audio files in the dataset.\"))\n",
    "\n",
    "table = f\"\"\"\n",
    "Here is the split into good and bad signals:\n",
    "| Label   | Count   |\n",
    "|:-------:|:-------:|\n",
    "| 0       | {df['label'].value_counts()[0]} |\n",
    "| 1       | {df['label'].value_counts()[1]} |\"\"\"\n",
    "display(ipd.Markdown(table))\n",
    "df.head()"
   ]
  },
  {
   "cell_type": "markdown",
   "metadata": {},
   "source": [
    "### Creating spectrogram images from .wav audio files"
   ]
  },
  {
   "cell_type": "code",
   "execution_count": 3,
   "metadata": {},
   "outputs": [],
   "source": [
    "def get_images(samples, sr, output_path):\n",
    "    n_fft = 2048\n",
    "    hop_length = 512\n",
    "    n_mels=90\n",
    "    S = librosa.feature.melspectrogram(y=samples,\n",
    "                                       sr=sr,\n",
    "                                       n_fft=n_fft,\n",
    "                                       hop_length=hop_length,\n",
    "                                       n_mels=n_mels,\n",
    "                                       fmax=100000)\n",
    "    S_db = librosa.power_to_db(S, ref=np.max)\n",
    "    fig, ax = plt.subplots(figsize=(2,2))\n",
    "    librosa.display.specshow(S_db,\n",
    "                             x_axis='time',\n",
    "                             y_axis='linear',\n",
    "                             sr=sr,\n",
    "                             hop_length=hop_length, \n",
    "                             )\n",
    "    plt.axis('off')\n",
    "    plt.tight_layout()\n",
    "    plt.savefig(output_path, dpi=150, format='png' , bbox_inches='tight', pad_inches=0)\n",
    "    plt.close()"
   ]
  },
  {
   "cell_type": "code",
   "execution_count": 4,
   "metadata": {},
   "outputs": [
    {
     "ename": "KeyboardInterrupt",
     "evalue": "",
     "output_type": "error",
     "traceback": [
      "\u001b[0;31m---------------------------------------------------------------------------\u001b[0m",
      "\u001b[0;31mKeyboardInterrupt\u001b[0m                         Traceback (most recent call last)",
      "Cell \u001b[0;32mIn[4], line 14\u001b[0m\n\u001b[1;32m     11\u001b[0m output_path \u001b[38;5;241m=\u001b[39m os\u001b[38;5;241m.\u001b[39mpath\u001b[38;5;241m.\u001b[39mjoin(output_directory, \u001b[38;5;124mf\u001b[39m\u001b[38;5;124m\"\u001b[39m\u001b[38;5;132;01m{\u001b[39;00mos\u001b[38;5;241m.\u001b[39mpath\u001b[38;5;241m.\u001b[39msplitext(filename)[\u001b[38;5;241m0\u001b[39m]\u001b[38;5;132;01m}\u001b[39;00m\u001b[38;5;124m.png\u001b[39m\u001b[38;5;124m\"\u001b[39m)\n\u001b[1;32m     13\u001b[0m audio_data, sr \u001b[38;5;241m=\u001b[39m librosa\u001b[38;5;241m.\u001b[39mload(file_path, sr\u001b[38;5;241m=\u001b[39m\u001b[38;5;28;01mNone\u001b[39;00m)\n\u001b[0;32m---> 14\u001b[0m \u001b[43mget_images\u001b[49m\u001b[43m(\u001b[49m\u001b[43maudio_data\u001b[49m\u001b[43m,\u001b[49m\u001b[43m \u001b[49m\u001b[43msr\u001b[49m\u001b[43m,\u001b[49m\u001b[43m \u001b[49m\u001b[43moutput_path\u001b[49m\u001b[43m)\u001b[49m\n",
      "Cell \u001b[0;32mIn[3], line 21\u001b[0m, in \u001b[0;36mget_images\u001b[0;34m(samples, sr, output_path)\u001b[0m\n\u001b[1;32m     19\u001b[0m plt\u001b[38;5;241m.\u001b[39maxis(\u001b[38;5;124m'\u001b[39m\u001b[38;5;124moff\u001b[39m\u001b[38;5;124m'\u001b[39m)\n\u001b[1;32m     20\u001b[0m plt\u001b[38;5;241m.\u001b[39mtight_layout()\n\u001b[0;32m---> 21\u001b[0m \u001b[43mplt\u001b[49m\u001b[38;5;241;43m.\u001b[39;49m\u001b[43msavefig\u001b[49m\u001b[43m(\u001b[49m\u001b[43moutput_path\u001b[49m\u001b[43m,\u001b[49m\u001b[43m \u001b[49m\u001b[43mdpi\u001b[49m\u001b[38;5;241;43m=\u001b[39;49m\u001b[38;5;241;43m150\u001b[39;49m\u001b[43m,\u001b[49m\u001b[43m \u001b[49m\u001b[38;5;28;43mformat\u001b[39;49m\u001b[38;5;241;43m=\u001b[39;49m\u001b[38;5;124;43m'\u001b[39;49m\u001b[38;5;124;43mpng\u001b[39;49m\u001b[38;5;124;43m'\u001b[39;49m\u001b[43m \u001b[49m\u001b[43m,\u001b[49m\u001b[43m \u001b[49m\u001b[43mbbox_inches\u001b[49m\u001b[38;5;241;43m=\u001b[39;49m\u001b[38;5;124;43m'\u001b[39;49m\u001b[38;5;124;43mtight\u001b[39;49m\u001b[38;5;124;43m'\u001b[39;49m\u001b[43m,\u001b[49m\u001b[43m \u001b[49m\u001b[43mpad_inches\u001b[49m\u001b[38;5;241;43m=\u001b[39;49m\u001b[38;5;241;43m0\u001b[39;49m\u001b[43m)\u001b[49m\n\u001b[1;32m     22\u001b[0m plt\u001b[38;5;241m.\u001b[39mclose()\n",
      "File \u001b[0;32m/Library/Frameworks/Python.framework/Versions/3.11/lib/python3.11/site-packages/matplotlib/pyplot.py:1023\u001b[0m, in \u001b[0;36msavefig\u001b[0;34m(*args, **kwargs)\u001b[0m\n\u001b[1;32m   1020\u001b[0m \u001b[39m@_copy_docstring_and_deprecators\u001b[39m(Figure\u001b[39m.\u001b[39msavefig)\n\u001b[1;32m   1021\u001b[0m \u001b[39mdef\u001b[39;00m \u001b[39msavefig\u001b[39m(\u001b[39m*\u001b[39margs, \u001b[39m*\u001b[39m\u001b[39m*\u001b[39mkwargs):\n\u001b[1;32m   1022\u001b[0m     fig \u001b[39m=\u001b[39m gcf()\n\u001b[0;32m-> 1023\u001b[0m     res \u001b[39m=\u001b[39m fig\u001b[39m.\u001b[39;49msavefig(\u001b[39m*\u001b[39;49margs, \u001b[39m*\u001b[39;49m\u001b[39m*\u001b[39;49mkwargs)\n\u001b[1;32m   1024\u001b[0m     fig\u001b[39m.\u001b[39mcanvas\u001b[39m.\u001b[39mdraw_idle()  \u001b[39m# Need this if 'transparent=True', to reset colors.\u001b[39;00m\n\u001b[1;32m   1025\u001b[0m     \u001b[39mreturn\u001b[39;00m res\n",
      "File \u001b[0;32m/Library/Frameworks/Python.framework/Versions/3.11/lib/python3.11/site-packages/matplotlib/figure.py:3343\u001b[0m, in \u001b[0;36mFigure.savefig\u001b[0;34m(self, fname, transparent, **kwargs)\u001b[0m\n\u001b[1;32m   3339\u001b[0m     \u001b[39mfor\u001b[39;00m ax \u001b[39min\u001b[39;00m \u001b[39mself\u001b[39m\u001b[39m.\u001b[39maxes:\n\u001b[1;32m   3340\u001b[0m         stack\u001b[39m.\u001b[39menter_context(\n\u001b[1;32m   3341\u001b[0m             ax\u001b[39m.\u001b[39mpatch\u001b[39m.\u001b[39m_cm_set(facecolor\u001b[39m=\u001b[39m\u001b[39m'\u001b[39m\u001b[39mnone\u001b[39m\u001b[39m'\u001b[39m, edgecolor\u001b[39m=\u001b[39m\u001b[39m'\u001b[39m\u001b[39mnone\u001b[39m\u001b[39m'\u001b[39m))\n\u001b[0;32m-> 3343\u001b[0m \u001b[39mself\u001b[39;49m\u001b[39m.\u001b[39;49mcanvas\u001b[39m.\u001b[39;49mprint_figure(fname, \u001b[39m*\u001b[39;49m\u001b[39m*\u001b[39;49mkwargs)\n",
      "File \u001b[0;32m/Library/Frameworks/Python.framework/Versions/3.11/lib/python3.11/site-packages/matplotlib/backend_bases.py:2313\u001b[0m, in \u001b[0;36mFigureCanvasBase.print_figure\u001b[0;34m(self, filename, dpi, facecolor, edgecolor, orientation, format, bbox_inches, pad_inches, bbox_extra_artists, backend, **kwargs)\u001b[0m\n\u001b[1;32m   2310\u001b[0m     dpi \u001b[39m=\u001b[39m \u001b[39mgetattr\u001b[39m(\u001b[39mself\u001b[39m\u001b[39m.\u001b[39mfigure, \u001b[39m'\u001b[39m\u001b[39m_original_dpi\u001b[39m\u001b[39m'\u001b[39m, \u001b[39mself\u001b[39m\u001b[39m.\u001b[39mfigure\u001b[39m.\u001b[39mdpi)\n\u001b[1;32m   2312\u001b[0m \u001b[39m# Remove the figure manager, if any, to avoid resizing the GUI widget.\u001b[39;00m\n\u001b[0;32m-> 2313\u001b[0m \u001b[39mwith\u001b[39;49;00m cbook\u001b[39m.\u001b[39;49m_setattr_cm(\u001b[39mself\u001b[39;49m, manager\u001b[39m=\u001b[39;49m\u001b[39mNone\u001b[39;49;00m), \\\n\u001b[1;32m   2314\u001b[0m      \u001b[39mself\u001b[39;49m\u001b[39m.\u001b[39;49m_switch_canvas_and_return_print_method(\u001b[39mformat\u001b[39;49m, backend) \\\n\u001b[1;32m   2315\u001b[0m          \u001b[39mas\u001b[39;49;00m print_method, \\\n\u001b[1;32m   2316\u001b[0m      cbook\u001b[39m.\u001b[39;49m_setattr_cm(\u001b[39mself\u001b[39;49m\u001b[39m.\u001b[39;49mfigure, dpi\u001b[39m=\u001b[39;49mdpi), \\\n\u001b[1;32m   2317\u001b[0m      cbook\u001b[39m.\u001b[39;49m_setattr_cm(\u001b[39mself\u001b[39;49m\u001b[39m.\u001b[39;49mfigure\u001b[39m.\u001b[39;49mcanvas, _device_pixel_ratio\u001b[39m=\u001b[39;49m\u001b[39m1\u001b[39;49m), \\\n\u001b[1;32m   2318\u001b[0m      cbook\u001b[39m.\u001b[39;49m_setattr_cm(\u001b[39mself\u001b[39;49m\u001b[39m.\u001b[39;49mfigure\u001b[39m.\u001b[39;49mcanvas, _is_saving\u001b[39m=\u001b[39;49m\u001b[39mTrue\u001b[39;49;00m), \\\n\u001b[1;32m   2319\u001b[0m      ExitStack() \u001b[39mas\u001b[39;49;00m stack:\n\u001b[1;32m   2321\u001b[0m     \u001b[39mfor\u001b[39;49;00m prop \u001b[39min\u001b[39;49;00m [\u001b[39m\"\u001b[39;49m\u001b[39mfacecolor\u001b[39;49m\u001b[39m\"\u001b[39;49m, \u001b[39m\"\u001b[39;49m\u001b[39medgecolor\u001b[39;49m\u001b[39m\"\u001b[39;49m]:\n\u001b[1;32m   2322\u001b[0m         color \u001b[39m=\u001b[39;49m \u001b[39mlocals\u001b[39;49m()[prop]\n",
      "File \u001b[0;32m/Library/Frameworks/Python.framework/Versions/3.11/lib/python3.11/contextlib.py:144\u001b[0m, in \u001b[0;36m_GeneratorContextManager.__exit__\u001b[0;34m(self, typ, value, traceback)\u001b[0m\n\u001b[1;32m    142\u001b[0m \u001b[39mif\u001b[39;00m typ \u001b[39mis\u001b[39;00m \u001b[39mNone\u001b[39;00m:\n\u001b[1;32m    143\u001b[0m     \u001b[39mtry\u001b[39;00m:\n\u001b[0;32m--> 144\u001b[0m         \u001b[39mnext\u001b[39m(\u001b[39mself\u001b[39m\u001b[39m.\u001b[39mgen)\n\u001b[1;32m    145\u001b[0m     \u001b[39mexcept\u001b[39;00m \u001b[39mStopIteration\u001b[39;00m:\n\u001b[1;32m    146\u001b[0m         \u001b[39mreturn\u001b[39;00m \u001b[39mFalse\u001b[39;00m\n",
      "File \u001b[0;32m/Library/Frameworks/Python.framework/Versions/3.11/lib/python3.11/site-packages/matplotlib/cbook/__init__.py:2035\u001b[0m, in \u001b[0;36m_setattr_cm\u001b[0;34m(obj, **kwargs)\u001b[0m\n\u001b[1;32m   2033\u001b[0m     \u001b[39mdelattr\u001b[39m(obj, attr)\n\u001b[1;32m   2034\u001b[0m \u001b[39melse\u001b[39;00m:\n\u001b[0;32m-> 2035\u001b[0m     \u001b[39msetattr\u001b[39m(obj, attr, orig)\n",
      "File \u001b[0;32m/Library/Frameworks/Python.framework/Versions/3.11/lib/python3.11/site-packages/matplotlib/figure.py:2751\u001b[0m, in \u001b[0;36mFigure._set_dpi\u001b[0;34m(self, dpi, forward)\u001b[0m\n\u001b[1;32m   2749\u001b[0m \u001b[39mself\u001b[39m\u001b[39m.\u001b[39mdpi_scale_trans\u001b[39m.\u001b[39mclear()\u001b[39m.\u001b[39mscale(dpi)\n\u001b[1;32m   2750\u001b[0m w, h \u001b[39m=\u001b[39m \u001b[39mself\u001b[39m\u001b[39m.\u001b[39mget_size_inches()\n\u001b[0;32m-> 2751\u001b[0m \u001b[39mself\u001b[39;49m\u001b[39m.\u001b[39;49mset_size_inches(w, h, forward\u001b[39m=\u001b[39;49mforward)\n\u001b[1;32m   2752\u001b[0m \u001b[39mself\u001b[39m\u001b[39m.\u001b[39m_fig_callbacks\u001b[39m.\u001b[39mprocess(\u001b[39m'\u001b[39m\u001b[39mdpi_changed\u001b[39m\u001b[39m'\u001b[39m, \u001b[39mself\u001b[39m)\n",
      "File \u001b[0;32m/Library/Frameworks/Python.framework/Versions/3.11/lib/python3.11/site-packages/matplotlib/figure.py:3024\u001b[0m, in \u001b[0;36mFigure.set_size_inches\u001b[0;34m(self, w, h, forward)\u001b[0m\n\u001b[1;32m   3022\u001b[0m     w, h \u001b[39m=\u001b[39m w\n\u001b[1;32m   3023\u001b[0m size \u001b[39m=\u001b[39m np\u001b[39m.\u001b[39marray([w, h])\n\u001b[0;32m-> 3024\u001b[0m \u001b[39mif\u001b[39;00m \u001b[39mnot\u001b[39;00m np\u001b[39m.\u001b[39;49misfinite(size)\u001b[39m.\u001b[39;49mall() \u001b[39mor\u001b[39;00m (size \u001b[39m<\u001b[39m \u001b[39m0\u001b[39m)\u001b[39m.\u001b[39many():\n\u001b[1;32m   3025\u001b[0m     \u001b[39mraise\u001b[39;00m \u001b[39mValueError\u001b[39;00m(\u001b[39mf\u001b[39m\u001b[39m'\u001b[39m\u001b[39mfigure size must be positive finite not \u001b[39m\u001b[39m{\u001b[39;00msize\u001b[39m}\u001b[39;00m\u001b[39m'\u001b[39m)\n\u001b[1;32m   3026\u001b[0m \u001b[39mself\u001b[39m\u001b[39m.\u001b[39mbbox_inches\u001b[39m.\u001b[39mp1 \u001b[39m=\u001b[39m size\n",
      "File \u001b[0;32m/Library/Frameworks/Python.framework/Versions/3.11/lib/python3.11/site-packages/numpy/core/_methods.py:63\u001b[0m, in \u001b[0;36m_all\u001b[0;34m(a, axis, dtype, out, keepdims, where)\u001b[0m\n\u001b[1;32m     60\u001b[0m \u001b[39mdef\u001b[39;00m \u001b[39m_all\u001b[39m(a, axis\u001b[39m=\u001b[39m\u001b[39mNone\u001b[39;00m, dtype\u001b[39m=\u001b[39m\u001b[39mNone\u001b[39;00m, out\u001b[39m=\u001b[39m\u001b[39mNone\u001b[39;00m, keepdims\u001b[39m=\u001b[39m\u001b[39mFalse\u001b[39;00m, \u001b[39m*\u001b[39m, where\u001b[39m=\u001b[39m\u001b[39mTrue\u001b[39;00m):\n\u001b[1;32m     61\u001b[0m     \u001b[39m# Parsing keyword arguments is currently fairly slow, so avoid it for now\u001b[39;00m\n\u001b[1;32m     62\u001b[0m     \u001b[39mif\u001b[39;00m where \u001b[39mis\u001b[39;00m \u001b[39mTrue\u001b[39;00m:\n\u001b[0;32m---> 63\u001b[0m         \u001b[39mreturn\u001b[39;00m umr_all(a, axis, dtype, out, keepdims)\n\u001b[1;32m     64\u001b[0m     \u001b[39mreturn\u001b[39;00m umr_all(a, axis, dtype, out, keepdims, where\u001b[39m=\u001b[39mwhere)\n",
      "\u001b[0;31mKeyboardInterrupt\u001b[0m: "
     ]
    },
    {
     "data": {
      "image/png": "[encoded data removed]",
      "text/plain": [
       "<Figure size 200x200 with 1 Axes>"
      ]
     },
     "metadata": {},
     "output_type": "display_data"
    }
   ],
   "source": [
    "input_directory = Path.cwd() / \".dataset/X_train\"\n",
    "output_directory = \"./spectogram_images\"\n",
    "\n",
    "if not os.path.exists(output_directory):\n",
    "    os.makedirs(output_directory)\n",
    "\n",
    "\n",
    "for filename in os.listdir(input_directory):\n",
    "    if filename.endswith(\".wav\"):  # Check the file extension\n",
    "        file_path = os.path.join(input_directory, filename)\n",
    "        output_path = os.path.join(output_directory, f\"{os.path.splitext(filename)[0]}.png\")\n",
    "        \n",
    "        audio_data, sr = librosa.load(file_path, sr=None)\n",
    "        get_images(audio_data, sr, output_path)"
   ]
  },
  {
   "cell_type": "markdown",
   "metadata": {},
   "source": [
    "### Check data distribution"
   ]
  },
  {
   "cell_type": "code",
   "execution_count": 5,
   "metadata": {},
   "outputs": [
    {
     "data": {
      "image/png": "[encoded data removed]",
      "text/plain": [
       "<Figure size 640x480 with 1 Axes>"
      ]
     },
     "metadata": {},
     "output_type": "display_data"
    }
   ],
   "source": [
    "class_counts = df['label'].value_counts()\n",
    "\n",
    "# Assuming there are only two classes\n",
    "class_names = ['0', '1']\n",
    "\n",
    "plt.bar(class_names, [class_counts[0], class_counts[1]])\n",
    "plt.xlabel('Labels')\n",
    "plt.ylabel('Nombres')\n",
    "plt.title('Distribution dataset')\n",
    "plt.show()"
   ]
  },
  {
   "cell_type": "markdown",
   "metadata": {},
   "source": [
    "##### mouais ça peut aller ==> pas d'image augmentation pour le moment"
   ]
  },
  {
   "cell_type": "code",
   "execution_count": 6,
   "metadata": {},
   "outputs": [
    {
     "name": "stdout",
     "output_type": "stream",
     "text": [
      "Dataset: 23168 total images\n"
     ]
    }
   ],
   "source": [
    "NUM_IMAGES = len(os.listdir(Path.cwd() / 'spectogram_images'))\n",
    "print('Dataset: {} total images'.format(NUM_IMAGES))"
   ]
  },
  {
   "cell_type": "code",
   "execution_count": 7,
   "metadata": {},
   "outputs": [],
   "source": [
    "train_size = int(0.8 * NUM_IMAGES)\n",
    "val_size = int(0.2 * NUM_IMAGES)"
   ]
  },
  {
   "cell_type": "code",
   "execution_count": 8,
   "metadata": {},
   "outputs": [
    {
     "name": "stdout",
     "output_type": "stream",
     "text": [
      "18534\n"
     ]
    }
   ],
   "source": [
    "print(train_size)"
   ]
  },
  {
   "cell_type": "code",
   "execution_count": 8,
   "metadata": {},
   "outputs": [],
   "source": [
    "# Defining binary focal loss function\n",
    "def binary_focal_loss(gamma = 2., alpha = .25):\n",
    "    def tf_binary_focal_loss_fixed(y_true, y_pred):\n",
    "         pt_1 = tf.where(tf.equal(y_true, 1), y_pred, tf.ones_like(y_pred))\n",
    "         pt_0 = tf.where(tf.equal(y_true, 0), y_pred, tf.zeros_like(y_pred))\n",
    "         epsilon = K.epsilon()\n",
    "         pt_1 = K.clip(pt_1, epsilon, 1. - epsilon)\n",
    "         pt_0 = K.clip(pt_0, epsilon, 1. - epsilon)\n",
    "         return -K.sum(alpha * K.pow(1. - pt_1, gamma) * K.log(pt_1)) -K.sum((1 - alpha) * K.pow(pt_0, gamma) * K.log(1. - pt_0))\n",
    "    return tf_binary_focal_loss_fixed"
   ]
  },
  {
   "cell_type": "code",
   "execution_count": 10,
   "metadata": {},
   "outputs": [],
   "source": [
    "# Learning Rate Schedule for Fine Tuning \n",
    "def exponential_lr(epoch,\n",
    "                   start_lr = 0.00001, min_lr = 0.00001, max_lr = 0.00005,\n",
    "                   rampup_epochs = 5, sustain_epochs = 0,\n",
    "                   exp_decay = 0.85):\n",
    "\n",
    "    def lr(epoch, start_lr, min_lr, max_lr, rampup_epochs, sustain_epochs, exp_decay):\n",
    "        # linear increase from start to rampup_epochs\n",
    "        if epoch < rampup_epochs:\n",
    "            lr = ((max_lr - start_lr) /\n",
    "                  rampup_epochs * epoch + start_lr)\n",
    "        # constant max_lr during sustain_epochs\n",
    "        elif epoch < rampup_epochs + sustain_epochs:\n",
    "            lr = max_lr\n",
    "        # exponential decay towards min_lr\n",
    "        else:\n",
    "            lr = ((max_lr - min_lr) *\n",
    "                  exp_decay**(epoch - rampup_epochs - sustain_epochs) +\n",
    "                  min_lr)\n",
    "        return lr\n",
    "    return lr(epoch,\n",
    "              start_lr,\n",
    "              min_lr,\n",
    "              max_lr,\n",
    "              rampup_epochs,\n",
    "              sustain_epochs,\n",
    "              exp_decay)\n",
    "\n",
    "lr_callback = tf.keras.callbacks.LearningRateScheduler(exponential_lr, verbose=True)"
   ]
  },
  {
   "cell_type": "code",
   "execution_count": 11,
   "metadata": {},
   "outputs": [],
   "source": [
    "# Define early stopping criteria\n",
    "early_stopping = EarlyStopping(monitor='val_loss', min_delta=0.001, patience=2, restore_best_weights=True)"
   ]
  },
  {
   "cell_type": "code",
   "execution_count": 14,
   "metadata": {},
   "outputs": [
    {
     "name": "stdout",
     "output_type": "stream",
     "text": [
      "Downloading data from https://github.com/Callidior/keras-applications/releases/download/efficientnet/efficientnet-b2_weights_tf_dim_ordering_tf_kernels_autoaugment_notop.h5\n",
      "31936256/31936256 [==============================] - 15s 0us/step\n"
     ]
    }
   ],
   "source": [
    "pretrained_model = efn.EfficientNetB2(\n",
    "    weights='imagenet',\n",
    "    include_top=False ,\n",
    "    input_shape=[*[255,255], 3]\n",
    ")\n",
    "\n",
    "pretrained_model.trainable = False\n",
    "\n",
    "model = tf.keras.Sequential([\n",
    "    pretrained_model,\n",
    "    tf.keras.layers.GlobalAveragePooling2D(),\n",
    "    tf.keras.layers.Dense(40, activation='relu'),\n",
    "    tf.keras.layers.Dense(1, activation='sigmoid')\n",
    "])"
   ]
  },
  {
   "cell_type": "code",
   "execution_count": 15,
   "metadata": {},
   "outputs": [
    {
     "name": "stdout",
     "output_type": "stream",
     "text": [
      "Model: \"sequential\"\n",
      "_________________________________________________________________\n",
      " Layer (type)                Output Shape              Param #   \n",
      "=================================================================\n",
      " efficientnet-b2 (Functiona  (None, 8, 8, 1408)        7768562   \n",
      " l)                                                              \n",
      "                                                                 \n",
      " global_average_pooling2d (  (None, 1408)              0         \n",
      " GlobalAveragePooling2D)                                         \n",
      "                                                                 \n",
      " dense (Dense)               (None, 40)                56360     \n",
      "                                                                 \n",
      " dense_1 (Dense)             (None, 1)                 41        \n",
      "                                                                 \n",
      "=================================================================\n",
      "Total params: 7824963 (29.85 MB)\n",
      "Trainable params: 56401 (220.32 KB)\n",
      "Non-trainable params: 7768562 (29.63 MB)\n",
      "_________________________________________________________________\n"
     ]
    }
   ],
   "source": [
    "model.compile(\n",
    "    optimizer=\"adam\",\n",
    "    loss=binary_focal_loss(), \n",
    "    metrics=['binary_accuracy'],\n",
    ")\n",
    "model.summary()"
   ]
  },
  {
   "cell_type": "code",
   "execution_count": null,
   "metadata": {},
   "outputs": [],
   "source": [
    "# Training epochs definition \n",
    "steps_per_epoch = train_size // BATCH_SIZE\n",
    "\n",
    "# Fitting the model \n",
    "history = model.fit(\n",
    "    ds_train,\n",
    "    validation_data=ds_val,\n",
    "    epochs=EPOCHS[0],\n",
    "    steps_per_epoch=steps_per_epoch,\n",
    "    callbacks=[lr_callback,early_stopping]\n",
    "    )"
   ]
  }
 ],
 "metadata": {
  "kernelspec": {
   "display_name": "Python 3.11.1 64-bit",
   "language": "python",
   "name": "python3"
  },
  "language_info": {
   "codemirror_mode": {
    "name": "ipython",
    "version": 3
   },
   "file_extension": ".py",
   "mimetype": "text/x-python",
   "name": "python",
   "nbconvert_exporter": "python",
   "pygments_lexer": "ipython3",
   "version": "3.11.1"
  },
  "orig_nbformat": 4,
  "vscode": {
   "interpreter": {
    "hash": "20e40d8fc09a6690434ad602c7eb2d8de15d36ec466bfbfb0de97c7c540d7363"
   }
  }
 },
 "nbformat": 4,
 "nbformat_minor": 2
}
