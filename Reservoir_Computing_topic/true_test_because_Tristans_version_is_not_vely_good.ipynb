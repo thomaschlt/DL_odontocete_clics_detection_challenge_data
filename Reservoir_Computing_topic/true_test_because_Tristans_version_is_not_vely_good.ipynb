{
 "cells": [
  {
   "cell_type": "code",
   "execution_count": null,
   "metadata": {},
   "outputs": [],
   "source": [
    "from reservoirpy.datasets import mackey_glass\n",
    "from reservoirpy.observables import rmse, rsquare\n",
    "from reservoirpy.nodes import Reservoir, Ridge\n",
    "from pathlib import Path\n",
    "import pandas as pd\n",
    "import numpy as np\n",
    "import matplotlib.pyplot as plt\n",
    "import seaborn as sns\n",
    "import librosa\n",
    "from scipy import signal\n",
    "from tqdm import tqdm\n",
    "from reservoirpy.nodes import Reservoir, Ridge, FORCE, ESN"
   ]
  },
  {
   "cell_type": "code",
   "execution_count": null,
   "metadata": {},
   "outputs": [],
   "source": [
    "def load_and_preprocess_data(file_paths, target_length): \n",
    "    data = []\n",
    "    for file_path in tqdm(file_paths, desc=\"Loading and preprocessing data\", unit=\"file\"):\n",
    "        audio, sr = librosa.load(file_path, sr=None)\n",
    "        if len(audio) < target_length:\n",
    "            audio = np.pad(audio, (0, target_length - len(audio)))\n",
    "        else: \n",
    "            audio = audio[:target_length]\n",
    "\n",
    "        audio = bandpass_filter(audio, sr)\n",
    "\n",
    "        data.append(audio)\n",
    "\n",
    "    print(\"Done\")\n",
    "    return np.array(data)\n",
    "\n",
    "def bandpass_filter(audio, sr):\n",
    "    sos = signal.butter(6, [5000, 100000], 'bandpass', fs=sr, output='sos')\n",
    "    audio = signal.sosfiltfilt(sos, audio)\n",
    "    return audio"
   ]
  },
  {
   "cell_type": "code",
   "execution_count": null,
   "metadata": {},
   "outputs": [],
   "source": [
    "#! ===== Set parameters ======\n",
    "grandparent_dir = Path.cwd().parents[0]\n",
    "print(grandparent_dir)\n",
    "test_directory = grandparent_dir / \".dataset\" / \"X_test\"\n",
    "train_directory = grandparent_dir / \".dataset\" / \"X_train\"\n",
    "\n",
    "# Set the path to the downloaded data\n",
    "download_path = grandparent_dir / \".dataset\"\n",
    "\n",
    "# Audio parameters\n",
    "sample_rate = 256000\n",
    "audio_duration_seconds = 0.2 "
   ]
  },
  {
   "cell_type": "code",
   "execution_count": null,
   "metadata": {},
   "outputs": [],
   "source": [
    "#! ====== Load and preprocess data ====== \n",
    "# Read labels file\n",
    "labels_file = download_path / \"Y_train_ofTdMHi.csv\"\n",
    "df = pd.read_csv(labels_file)\n",
    "\n",
    "# Construct file path by concatenating folder and file name\n",
    "df[\"relative_path\"] = Path(download_path) / \"X_train\" / df[\"id\"]\n",
    "# df[\"relative_path\"] = str(download_path) + \"/X_train/\" + df[\"id\"]\n",
    "\n",
    "# Drop id column (replaced it with relative_path)\n",
    "df.drop(columns=[\"id\"], inplace=True)\n",
    "\n",
    "df.rename(columns={\"pos_label\": \"label\"}, inplace=True)\n",
    "\n",
    "# invert relative_path and label columns positions\n",
    "df = df[[\"relative_path\", \"label\"]]\n",
    "print(f\"### There are {len(df)} audio files in the dataset.\")\n",
    "\n",
    "table = f\"\"\"\n",
    "Here is the split into good and bad signals:\n",
    "| Label   | Count   |\n",
    "|:-------:|:-------:|\n",
    "| 0       | {df['label'].value_counts()[0]:7} |\n",
    "| 1       | {df['label'].value_counts()[1]:7} |\"\"\"\n",
    "print(table, end=\"\\n\\n\")\n",
    "print(\"### Here is a sample of the data:\")\n",
    "print(df.sample(5))\n"
   ]
  },
  {
   "cell_type": "code",
   "execution_count": null,
   "metadata": {},
   "outputs": [],
   "source": [
    "target_length = int(sample_rate * audio_duration_seconds)\n",
    "X = load_and_preprocess_data(df[\"relative_path\"], target_length)\n",
    "\n",
    "y = df[\"label\"].values.astype(int)\n",
    "\n",
    "reservoir = Reservoir(100, lr=0.5, sr=0.9)\n",
    "\n",
    "\n",
    "states = reservoir.run(X)"
   ]
  },
  {
   "cell_type": "code",
   "execution_count": null,
   "metadata": {},
   "outputs": [],
   "source": [
    "print(X.shape)\n",
    "print(X[0].shape)"
   ]
  },
  {
   "cell_type": "code",
   "execution_count": null,
   "metadata": {},
   "outputs": [],
   "source": []
  },
  {
   "cell_type": "code",
   "execution_count": null,
   "metadata": {},
   "outputs": [],
   "source": [
    "print(states.shape)"
   ]
  },
  {
   "cell_type": "code",
   "execution_count": null,
   "metadata": {},
   "outputs": [],
   "source": [
    "# train test split\n",
    "from sklearn.model_selection import train_test_split\n",
    "X_train, X_test, y_train, y_test = train_test_split(X, y, test_size=0.2, random_state=42)"
   ]
  },
  {
   "cell_type": "code",
   "execution_count": null,
   "metadata": {},
   "outputs": [],
   "source": [
    "readout = Ridge(ridge=1e-7)\n",
    "train_states = reservoir.run(X_train, reset=True)"
   ]
  },
  {
   "cell_type": "code",
   "execution_count": null,
   "metadata": {},
   "outputs": [],
   "source": [
    "readout = readout.fit(train_states, y_train, warmup=10)"
   ]
  }
 ],
 "metadata": {
  "kernelspec": {
   "display_name": ".env_macos",
   "language": "python",
   "name": "python3"
  },
  "language_info": {
   "codemirror_mode": {
    "name": "ipython",
    "version": 3
   },
   "file_extension": ".py",
   "mimetype": "text/x-python",
   "name": "python",
   "nbconvert_exporter": "python",
   "pygments_lexer": "ipython3",
   "version": "3.11.1"
  }
 },
 "nbformat": 4,
 "nbformat_minor": 2
}
