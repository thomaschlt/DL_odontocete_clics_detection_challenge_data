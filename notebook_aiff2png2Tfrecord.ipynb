{
 "cells": [
  {
   "cell_type": "code",
   "execution_count": 9,
   "metadata": {},
   "outputs": [],
   "source": [
    "import glob\n",
    "import io\n",
    "import librosa\n",
    "from pathlib import Path\n",
    "import matplotlib.pyplot as plt\n",
    "import numpy as np \n",
    "import os\n",
    "import pandas as pd\n",
    "import IPython.display as ipd\n",
    "import seaborn as sns \n",
    "import soundfile as sf\n",
    "import zipfile \n",
    "\n",
    "from tqdm import tqdm"
   ]
  },
  {
   "cell_type": "code",
   "execution_count": 10,
   "metadata": {},
   "outputs": [
    {
     "data": {
      "text/markdown": [
       "### There are **_23168_** audio files in the dataset."
      ],
      "text/plain": [
       "<IPython.core.display.Markdown object>"
      ]
     },
     "metadata": {},
     "output_type": "display_data"
    },
    {
     "data": {
      "text/markdown": [
       "\n",
       "Here is the split into good and bad signals:\n",
       "| Label   | Count   |\n",
       "|:-------:|:-------:|\n",
       "| 0       | 13718 |\n",
       "| 1       | 9450 |"
      ],
      "text/plain": [
       "<IPython.core.display.Markdown object>"
      ]
     },
     "metadata": {},
     "output_type": "display_data"
    },
    {
     "data": {
      "text/html": [
       "<div>\n",
       "<style scoped>\n",
       "    .dataframe tbody tr th:only-of-type {\n",
       "        vertical-align: middle;\n",
       "    }\n",
       "\n",
       "    .dataframe tbody tr th {\n",
       "        vertical-align: top;\n",
       "    }\n",
       "\n",
       "    .dataframe thead th {\n",
       "        text-align: right;\n",
       "    }\n",
       "</style>\n",
       "<table border=\"1\" class=\"dataframe\">\n",
       "  <thead>\n",
       "    <tr style=\"text-align: right;\">\n",
       "      <th></th>\n",
       "      <th>relative_path</th>\n",
       "      <th>label</th>\n",
       "    </tr>\n",
       "  </thead>\n",
       "  <tbody>\n",
       "    <tr>\n",
       "      <th>0</th>\n",
       "      <td>/Users/thomas/spé-IA/spe_ia_clics_odontocetes/...</td>\n",
       "      <td>0.0</td>\n",
       "    </tr>\n",
       "    <tr>\n",
       "      <th>1</th>\n",
       "      <td>/Users/thomas/spé-IA/spe_ia_clics_odontocetes/...</td>\n",
       "      <td>1.0</td>\n",
       "    </tr>\n",
       "    <tr>\n",
       "      <th>2</th>\n",
       "      <td>/Users/thomas/spé-IA/spe_ia_clics_odontocetes/...</td>\n",
       "      <td>1.0</td>\n",
       "    </tr>\n",
       "    <tr>\n",
       "      <th>3</th>\n",
       "      <td>/Users/thomas/spé-IA/spe_ia_clics_odontocetes/...</td>\n",
       "      <td>1.0</td>\n",
       "    </tr>\n",
       "    <tr>\n",
       "      <th>4</th>\n",
       "      <td>/Users/thomas/spé-IA/spe_ia_clics_odontocetes/...</td>\n",
       "      <td>1.0</td>\n",
       "    </tr>\n",
       "  </tbody>\n",
       "</table>\n",
       "</div>"
      ],
      "text/plain": [
       "                                       relative_path  label\n",
       "0  /Users/thomas/spé-IA/spe_ia_clics_odontocetes/...    0.0\n",
       "1  /Users/thomas/spé-IA/spe_ia_clics_odontocetes/...    1.0\n",
       "2  /Users/thomas/spé-IA/spe_ia_clics_odontocetes/...    1.0\n",
       "3  /Users/thomas/spé-IA/spe_ia_clics_odontocetes/...    1.0\n",
       "4  /Users/thomas/spé-IA/spe_ia_clics_odontocetes/...    1.0"
      ]
     },
     "execution_count": 10,
     "metadata": {},
     "output_type": "execute_result"
    }
   ],
   "source": [
    "output_path = '/Users/thomas/spé-IA/spe_ia_clics_odontocetes/.results/'\n",
    "\n",
    "if not os.path.exists(output_path):\n",
    "    os.makedirs(output_path)\n",
    "\n",
    "    \n",
    "# Set the path to the downloaded data\n",
    "download_path = Path.cwd() / \".dataset\"\n",
    "\n",
    "# Read labels file\n",
    "labels_file = download_path / \"Y_train_ofTdMHi.csv\"\n",
    "df = pd.read_csv(labels_file)\n",
    "\n",
    "# Construct file path by concatenating folder and file name\n",
    "df[\"relative_path\"] = str(download_path) + \"/X_train/\" + df[\"id\"]\n",
    "\n",
    "# Drop id column (replaced it with relative_path)\n",
    "df.drop(columns=[\"id\"], inplace=True)\n",
    "\n",
    "df.rename(columns={\"pos_label\": \"label\"}, inplace=True)\n",
    "\n",
    "# invert relative_path and label columns positions\n",
    "df = df[[\"relative_path\", \"label\"]]\n",
    "display(ipd.Markdown(f\"### There are **_{len(df)}_** audio files in the dataset.\"))\n",
    "\n",
    "table = f\"\"\"\n",
    "Here is the split into good and bad signals:\n",
    "| Label   | Count   |\n",
    "|:-------:|:-------:|\n",
    "| 0       | {df['label'].value_counts()[0]} |\n",
    "| 1       | {df['label'].value_counts()[1]} |\"\"\"\n",
    "display(ipd.Markdown(table))\n",
    "df.head()"
   ]
  },
  {
   "cell_type": "code",
   "execution_count": 34,
   "metadata": {},
   "outputs": [],
   "source": [
    "def get_images(samples, sr, output_path):\n",
    "    n_fft = 2048\n",
    "    hop_length = 512\n",
    "    n_mels=128\n",
    "    S = librosa.feature.melspectrogram(y=samples,\n",
    "                                       sr=sr,\n",
    "                                       n_fft=n_fft,\n",
    "                                       hop_length=hop_length,\n",
    "                                       n_mels=n_mels,\n",
    "                                       fmax=100000)\n",
    "    S_db = librosa.power_to_db(S, ref=np.max)\n",
    "    fig, ax = plt.subplots(figsize=(2,2))\n",
    "    librosa.display.specshow(S_db,\n",
    "                             x_axis='time',\n",
    "                             y_axis='linear',\n",
    "                             sr=sr,\n",
    "                             hop_length=hop_length, \n",
    "                             )\n",
    "    plt.axis('off')\n",
    "    plt.tight_layout()\n",
    "    plt.savefig(output_path, dpi=150, format='png' , bbox_inches='tight', pad_inches=0)\n",
    "    plt.close()"
   ]
  },
  {
   "cell_type": "markdown",
   "metadata": {},
   "source": [
    "### Converting .wav to .aiff"
   ]
  },
  {
   "cell_type": "code",
   "execution_count": 35,
   "metadata": {},
   "outputs": [],
   "source": [
    "file_paths = df.loc[:10, \"relative_path\"]\n",
    "output_directory = \"./aiff_files\"\n",
    "\n",
    "if not os.path.exists(output_directory):\n",
    "    os.makedirs(output_directory)\n",
    "\n",
    "for file_path in file_paths:\n",
    "    input_wav = file_path\n",
    "    \n",
    "    output_filename = os.path.basename(file_path).replace('.wav', '.aiff')  # Create the corresponding output file name\n",
    "    output_aiff = os.path.join(output_directory, output_filename)\n",
    "\n",
    "    data, samplerate = sf.read(input_wav)\n",
    "    sf.write(output_aiff, data, samplerate, format=\"AIFF\")"
   ]
  },
  {
   "cell_type": "code",
   "execution_count": 49,
   "metadata": {},
   "outputs": [
    {
     "name": "stderr",
     "output_type": "stream",
     "text": [
      "/Library/Frameworks/Python.framework/Versions/3.11/lib/python3.11/site-packages/librosa/feature/spectral.py:2143: UserWarning: Empty filters detected in mel frequency basis. Some channels will produce empty responses. Try increasing your sampling rate (and fmax) or reducing n_mels.\n",
      "  mel_basis = filters.mel(sr=sr, n_fft=n_fft, **kwargs)\n"
     ]
    }
   ],
   "source": [
    "input_directory = Path.cwd() / \".dataset/X_train\"\n",
    "output_directory = \"./spectogram_images\"\n",
    "file_limit = 10  # Number of files to process\n",
    "\n",
    "if not os.path.exists(output_directory):\n",
    "    os.makedirs(output_directory)\n",
    "\n",
    "file_count = 0  # Initialize file counter\n",
    "\n",
    "for filename in os.listdir(input_directory):\n",
    "    if file_count < file_limit and filename.endswith(\".wav\"):  # Check the file extension\n",
    "        file_path = os.path.join(input_directory, filename)\n",
    "        output_path = os.path.join(output_directory, f\"{os.path.splitext(filename)[0]}.png\")\n",
    "        \n",
    "        audio_data, sr = librosa.load(file_path, sr=None)\n",
    "        get_images(audio_data, sr, output_path)\n",
    "        \n",
    "        file_count += 1  # Increment the file counter after processing a file"
   ]
  },
  {
   "cell_type": "code",
   "execution_count": null,
   "metadata": {},
   "outputs": [],
   "source": []
  }
 ],
 "metadata": {
  "kernelspec": {
   "display_name": "Python 3.11.1 64-bit",
   "language": "python",
   "name": "python3"
  },
  "language_info": {
   "codemirror_mode": {
    "name": "ipython",
    "version": 3
   },
   "file_extension": ".py",
   "mimetype": "text/x-python",
   "name": "python",
   "nbconvert_exporter": "python",
   "pygments_lexer": "ipython3",
   "version": "3.11.1"
  },
  "orig_nbformat": 4,
  "vscode": {
   "interpreter": {
    "hash": "20e40d8fc09a6690434ad602c7eb2d8de15d36ec466bfbfb0de97c7c540d7363"
   }
  }
 },
 "nbformat": 4,
 "nbformat_minor": 2
}
